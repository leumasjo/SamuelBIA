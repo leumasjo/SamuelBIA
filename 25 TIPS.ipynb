{
    "metadata": {
        "kernelspec": {
            "name": "SQL",
            "display_name": "SQL",
            "language": "sql"
        },
        "language_info": {
            "name": "sql",
            "version": ""
        }
    },
    "nbformat_minor": 2,
    "nbformat": 4,
    "cells": [
        {
            "cell_type": "markdown",
            "source": [
                "# **Top 25 T-SQL Tips!!!**\n",
                "\n",
                "The following 25 tips were tested and executed using SQL 2022 and a modifed version of the sample Northwind database. These queries are focused on the DQL functionality within SQL. DQL stands for Data Query Language. It is one of the subset languages of SQL (Structured Query Language) used to perform queries within the database.  \n",
                "\n",
                "Database file used is Northwind\\_2003\n",
                "\n",
                "The tips listed will be coded as by number of rockets:\n",
                "\n",
                "🚀- Beginner\n",
                "\n",
                "🚀🚀 - Intermediate\n",
                "\n",
                "🚀🚀🚀 - Advanced"
            ],
            "metadata": {
                "azdata_cell_guid": "41620589-1ad1-4341-91f5-cd003f719e16"
            },
            "attachments": {}
        },
        {
            "cell_type": "markdown",
            "source": [
                "# 🚀**1. Using SELECT DISTINCT and CONCAT FUNCTIONS to return names, birthdate, city             and Country of Employee**\n",
                "\n",
                "<span style=\"color: #0000ff;\">USE Northwind_2023;</span>\n",
                "\n",
                "GO\n",
                "\n",
                "<span style=\"color: #0000ff;\">SELECT DISTINCT</span> <span style=\"color: #795e26;\">CONCAT</span>(FirstName, <span style=\"color: #a31515;\">' '</span>, LastName) <span style=\"color: #0000ff;\">AS</span> FullName\n",
                "\n",
                "                    ,emp.BirthDate\n",
                "\n",
                "                    ,emp.City\n",
                "\n",
                "                    ,emp.Country\n",
                "\n",
                "<span style=\"color: #0000ff;\">FROM</span> dbo.Employees emp;"
            ],
            "metadata": {
                "azdata_cell_guid": "4529d22c-541e-4789-9205-a9abcc4b478b"
            },
            "attachments": {}
        },
        {
            "cell_type": "code",
            "source": [
                "SELECT DISTINCT TOP 5 CONCAT(FirstName, ' ', LastName) AS FullName\r\n",
                "\t\t\t\t\t,emp.BirthDate\r\n",
                "\t\t\t\t\t,emp.City\r\n",
                "\t\t\t\t\t,emp.Country\r\n",
                "FROM dbo.Employees emp;"
            ],
            "metadata": {
                "azdata_cell_guid": "9fa7d1bf-caa0-41cb-82a8-1215d5912935",
                "language": "sql"
            },
            "outputs": [
                {
                    "output_type": "display_data",
                    "data": {
                        "text/html": "(5 rows affected)"
                    },
                    "metadata": {}
                },
                {
                    "output_type": "display_data",
                    "data": {
                        "text/html": "Total execution time: 00:00:00.070"
                    },
                    "metadata": {}
                },
                {
                    "output_type": "execute_result",
                    "metadata": {},
                    "execution_count": 34,
                    "data": {
                        "application/vnd.dataresource+json": {
                            "schema": {
                                "fields": [
                                    {
                                        "name": "FullName"
                                    },
                                    {
                                        "name": "BirthDate"
                                    },
                                    {
                                        "name": "City"
                                    },
                                    {
                                        "name": "Country"
                                    }
                                ]
                            },
                            "data": [
                                {
                                    "FullName": "Andrew Fuller",
                                    "BirthDate": "1977-02-19 00:00:00.000",
                                    "City": "Tacoma",
                                    "Country": "USA"
                                },
                                {
                                    "FullName": "Anne Dodsworth",
                                    "BirthDate": "1991-01-27 00:00:00.000",
                                    "City": "London",
                                    "Country": "UK"
                                },
                                {
                                    "FullName": "Janet Leverling",
                                    "BirthDate": "1988-08-30 00:00:00.000",
                                    "City": "Kirkland",
                                    "Country": "USA"
                                },
                                {
                                    "FullName": "Laura Callahan",
                                    "BirthDate": "1983-01-09 00:00:00.000",
                                    "City": "Seattle",
                                    "Country": "USA"
                                },
                                {
                                    "FullName": "Margaret Peacock",
                                    "BirthDate": "1962-09-19 00:00:00.000",
                                    "City": "Redmond",
                                    "Country": "USA"
                                }
                            ]
                        },
                        "text/html": [
                            "<table>",
                            "<tr><th>FullName</th><th>BirthDate</th><th>City</th><th>Country</th></tr>",
                            "<tr><td>Andrew Fuller</td><td>1977-02-19 00:00:00.000</td><td>Tacoma</td><td>USA</td></tr>",
                            "<tr><td>Anne Dodsworth</td><td>1991-01-27 00:00:00.000</td><td>London</td><td>UK</td></tr>",
                            "<tr><td>Janet Leverling</td><td>1988-08-30 00:00:00.000</td><td>Kirkland</td><td>USA</td></tr>",
                            "<tr><td>Laura Callahan</td><td>1983-01-09 00:00:00.000</td><td>Seattle</td><td>USA</td></tr>",
                            "<tr><td>Margaret Peacock</td><td>1962-09-19 00:00:00.000</td><td>Redmond</td><td>USA</td></tr>",
                            "</table>"
                        ]
                    }
                }
            ],
            "execution_count": 34
        },
        {
            "cell_type": "markdown",
            "source": [
                "# 🚀 **2. <span style=\"color: var(--vscode-foreground);\">Using GROUP BY and ORDER BY to select top products by average price</span>**\n",
                "\n",
                "<span style=\"color: #0000ff;\">SELECT</span> ProductID,\n",
                "\n",
                "    <span style=\"color: #795e26;\">AVG</span>(UnitPrice) <span style=\"color: #0000ff;\">AS</span> AveragePrice,\n",
                "\n",
                "    <span style=\"color: #795e26;\">SUM</span>(Quantity) <span style=\"color: #0000ff;\">AS</span> TotalQuantity\n",
                "\n",
                "<span style=\"color: #0000ff;\">FROM</span>\n",
                "\n",
                "    OrderDetails\n",
                "\n",
                "<span style=\"color: #0000ff;\">GROUP BY</span>\n",
                "\n",
                "    ProductID\n",
                "\n",
                "<span style=\"color: #0000ff;\">ORDER BY</span>\n",
                "\n",
                "    AveragePrice <span style=\"color: #0000ff;\">DESC</span>;"
            ],
            "metadata": {
                "azdata_cell_guid": "07befffe-26ba-4be4-b7a0-2d8c93edd906"
            },
            "attachments": {}
        },
        {
            "cell_type": "code",
            "source": [
                "SELECT TOP 5 \r\n",
                "    ProductID, \r\n",
                "    AVG(UnitPrice) AS AveragePrice, \r\n",
                "    SUM(Quantity) AS TotalQuantity\r\n",
                "FROM \r\n",
                "    OrderDetails\r\n",
                "GROUP BY \r\n",
                "    ProductID\r\n",
                "ORDER BY \r\n",
                "    AveragePrice DESC;"
            ],
            "metadata": {
                "azdata_cell_guid": "f7cb7f81-0dda-48af-b38e-c831b65f65c6",
                "language": "sql"
            },
            "outputs": [
                {
                    "output_type": "display_data",
                    "data": {
                        "text/html": "(5 rows affected)"
                    },
                    "metadata": {}
                },
                {
                    "output_type": "display_data",
                    "data": {
                        "text/html": "Total execution time: 00:00:00.040"
                    },
                    "metadata": {}
                },
                {
                    "output_type": "execute_result",
                    "metadata": {},
                    "execution_count": 39,
                    "data": {
                        "application/vnd.dataresource+json": {
                            "schema": {
                                "fields": [
                                    {
                                        "name": "ProductID"
                                    },
                                    {
                                        "name": "AveragePrice"
                                    },
                                    {
                                        "name": "TotalQuantity"
                                    }
                                ]
                            },
                            "data": [
                                {
                                    "ProductID": "38",
                                    "AveragePrice": "245.9333",
                                    "TotalQuantity": "623"
                                },
                                {
                                    "ProductID": "29",
                                    "AveragePrice": "116.0431",
                                    "TotalQuantity": "746"
                                },
                                {
                                    "ProductID": "9",
                                    "AveragePrice": "93.12",
                                    "TotalQuantity": "95"
                                },
                                {
                                    "ProductID": "20",
                                    "AveragePrice": "75.9375",
                                    "TotalQuantity": "313"
                                },
                                {
                                    "ProductID": "18",
                                    "AveragePrice": "59.7222",
                                    "TotalQuantity": "539"
                                }
                            ]
                        },
                        "text/html": [
                            "<table>",
                            "<tr><th>ProductID</th><th>AveragePrice</th><th>TotalQuantity</th></tr>",
                            "<tr><td>38</td><td>245.9333</td><td>623</td></tr>",
                            "<tr><td>29</td><td>116.0431</td><td>746</td></tr>",
                            "<tr><td>9</td><td>93.12</td><td>95</td></tr>",
                            "<tr><td>20</td><td>75.9375</td><td>313</td></tr>",
                            "<tr><td>18</td><td>59.7222</td><td>539</td></tr>",
                            "</table>"
                        ]
                    }
                }
            ],
            "execution_count": 39
        },
        {
            "cell_type": "markdown",
            "source": [
                "# 🚀**3\\. Filtering data using WHERE clause**\n",
                "\n",
                "<span style=\"color: #0000ff;\">SELECT</span> FirstName, LastName, Title\n",
                "\n",
                "<span style=\"color: #0000ff;\">FROM</span> Employees emp\n",
                "\n",
                "<span style=\"color: #0000ff;\">WHERE</span> Title <span style=\"color: #000000;\">=</span> <span style=\"color: #a31515;\">'Sales Representative'</span>;\n",
                "\n",
                "<span style=\"color: #0000ff;\">SELECT</span> ProductName, UnitPrice\n",
                "\n",
                "<span style=\"color: #0000ff;\">FROM</span> Products\n",
                "\n",
                "<span style=\"color: #0000ff;\">WHERE</span> UnitPrice <span style=\"color: #000000;\">&gt;</span> <span style=\"color: #09885a;\">100</span>;"
            ],
            "metadata": {
                "azdata_cell_guid": "ce59aaac-8ebb-4c9e-a4e4-06ca51f1b76c"
            },
            "attachments": {}
        },
        {
            "cell_type": "code",
            "source": [
                "SELECT FirstName, LastName, Title\r\n",
                "FROM Employees emp\r\n",
                "WHERE Title = 'Sales Representative';\r\n",
                "\r\n",
                "SELECT ProductName, UnitPrice\r\n",
                "FROM Products\r\n",
                "WHERE UnitPrice > 100;"
            ],
            "metadata": {
                "azdata_cell_guid": "b668f991-2cdd-44d0-aaf4-8c23c92e7a4e",
                "language": "sql",
                "tags": []
            },
            "outputs": [
                {
                    "output_type": "display_data",
                    "data": {
                        "text/html": "(6 rows affected)"
                    },
                    "metadata": {}
                },
                {
                    "output_type": "display_data",
                    "data": {
                        "text/html": "(2 rows affected)"
                    },
                    "metadata": {}
                },
                {
                    "output_type": "display_data",
                    "data": {
                        "text/html": "Total execution time: 00:00:02.570"
                    },
                    "metadata": {}
                },
                {
                    "output_type": "execute_result",
                    "execution_count": 10,
                    "data": {
                        "application/vnd.dataresource+json": {
                            "schema": {
                                "fields": [
                                    {
                                        "name": "FirstName"
                                    },
                                    {
                                        "name": "LastName"
                                    },
                                    {
                                        "name": "Title"
                                    }
                                ]
                            },
                            "data": [
                                {
                                    "FirstName": "Nancy",
                                    "LastName": "Davolio",
                                    "Title": "Sales Representative"
                                },
                                {
                                    "FirstName": "Janet",
                                    "LastName": "Leverling",
                                    "Title": "Sales Representative"
                                },
                                {
                                    "FirstName": "Margaret",
                                    "LastName": "Peacock",
                                    "Title": "Sales Representative"
                                },
                                {
                                    "FirstName": "Michael",
                                    "LastName": "Suyama",
                                    "Title": "Sales Representative"
                                },
                                {
                                    "FirstName": "Robert",
                                    "LastName": "King",
                                    "Title": "Sales Representative"
                                },
                                {
                                    "FirstName": "Anne",
                                    "LastName": "Dodsworth",
                                    "Title": "Sales Representative"
                                }
                            ]
                        },
                        "text/html": "<table><tr><th>FirstName</th><th>LastName</th><th>Title</th></tr><tr><td>Nancy</td><td>Davolio</td><td>Sales Representative</td></tr><tr><td>Janet</td><td>Leverling</td><td>Sales Representative</td></tr><tr><td>Margaret</td><td>Peacock</td><td>Sales Representative</td></tr><tr><td>Michael</td><td>Suyama</td><td>Sales Representative</td></tr><tr><td>Robert</td><td>King</td><td>Sales Representative</td></tr><tr><td>Anne</td><td>Dodsworth</td><td>Sales Representative</td></tr></table>"
                    },
                    "metadata": {}
                },
                {
                    "output_type": "execute_result",
                    "execution_count": 10,
                    "data": {
                        "application/vnd.dataresource+json": {
                            "schema": {
                                "fields": [
                                    {
                                        "name": "ProductName"
                                    },
                                    {
                                        "name": "UnitPrice"
                                    }
                                ]
                            },
                            "data": [
                                {
                                    "ProductName": "Thüringer Rostbratwurst",
                                    "UnitPrice": "123.79"
                                },
                                {
                                    "ProductName": "Côte de Blaye",
                                    "UnitPrice": "263.50"
                                }
                            ]
                        },
                        "text/html": "<table><tr><th>ProductName</th><th>UnitPrice</th></tr><tr><td>Thüringer Rostbratwurst</td><td>123.79</td></tr><tr><td>Côte de Blaye</td><td>263.50</td></tr></table>"
                    },
                    "metadata": {}
                }
            ],
            "execution_count": 10
        },
        {
            "cell_type": "markdown",
            "source": [
                "# 🚀4. To show all product name with their supplier name using JOIN Function🚀\n",
                "\n",
                "<span style=\"color: #0000ff;\">SELECT</span> Prod.ProductName\n",
                "\n",
                "    ,Sup.CompanyName\n",
                "\n",
                "<span style=\"color: #0000ff;\">FROM</span> Products prod\n",
                "\n",
                "<span style=\"color: #0000ff;\">INNER JOIN</span> Suppliers Sup <span style=\"color: #0000ff;\">ON</span> Prod.SupplierID <span style=\"color: #000000;\">=</span> Sup.SupplierID;"
            ],
            "metadata": {
                "azdata_cell_guid": "43347459-92eb-48dd-98f5-2ef8c32c38b8"
            },
            "attachments": {}
        },
        {
            "cell_type": "code",
            "source": [
                "SELECT TOP 5 Prod.ProductName\r\n",
                "    ,Sup.CompanyName\r\n",
                "FROM Products prod\r\n",
                "INNER JOIN Suppliers Sup ON Prod.SupplierID = Sup.SupplierID;"
            ],
            "metadata": {
                "azdata_cell_guid": "15ae2386-ef45-4825-913e-6493ec930ad9",
                "language": "sql",
                "tags": []
            },
            "outputs": [
                {
                    "output_type": "display_data",
                    "data": {
                        "text/html": "(5 rows affected)"
                    },
                    "metadata": {}
                },
                {
                    "output_type": "display_data",
                    "data": {
                        "text/html": "Total execution time: 00:00:00.035"
                    },
                    "metadata": {}
                },
                {
                    "output_type": "execute_result",
                    "execution_count": 2,
                    "data": {
                        "application/vnd.dataresource+json": {
                            "schema": {
                                "fields": [
                                    {
                                        "name": "ProductName"
                                    },
                                    {
                                        "name": "CompanyName"
                                    }
                                ]
                            },
                            "data": [
                                {
                                    "ProductName": "Chai",
                                    "CompanyName": "Exotic Liquids"
                                },
                                {
                                    "ProductName": "Chang",
                                    "CompanyName": "Exotic Liquids"
                                },
                                {
                                    "ProductName": "Aniseed Syrup",
                                    "CompanyName": "Exotic Liquids"
                                },
                                {
                                    "ProductName": "Chef Anton's Cajun Seasoning",
                                    "CompanyName": "New Orleans Cajun Delights"
                                },
                                {
                                    "ProductName": "Chef Anton's Gumbo Mix",
                                    "CompanyName": "New Orleans Cajun Delights"
                                }
                            ]
                        },
                        "text/html": "<table><tr><th>ProductName</th><th>CompanyName</th></tr><tr><td>Chai</td><td>Exotic Liquids</td></tr><tr><td>Chang</td><td>Exotic Liquids</td></tr><tr><td>Aniseed Syrup</td><td>Exotic Liquids</td></tr><tr><td>Chef Anton&#39;s Cajun Seasoning</td><td>New Orleans Cajun Delights</td></tr><tr><td>Chef Anton&#39;s Gumbo Mix</td><td>New Orleans Cajun Delights</td></tr></table>"
                    },
                    "metadata": {}
                }
            ],
            "execution_count": 2
        },
        {
            "cell_type": "markdown",
            "source": [
                "# 🚀**5\\. Top 5 Products with highest total revenue (UnitPrice\\*Quantity)**\n",
                "\n",
                "<span style=\"color: #0000ff;\">SELECT</span> ProductID\n",
                "\n",
                "       ,SUM(UnitPrice <span style=\"color: #000000;\">*</span> Quantity) <span style=\"color: #0000ff;\">AS</span> TotalRevenue\n",
                "\n",
                "<span style=\"color: #0000ff;\">FROM</span> OrderDetails\n",
                "\n",
                "<span style=\"color: #0000ff;\">GROUP BY</span> ProductID\n",
                "\n",
                "<span style=\"color: #0000ff;\">ORDER BY</span> TotalRevenue <span style=\"color: #0000ff;\">DESC</span>;"
            ],
            "metadata": {
                "azdata_cell_guid": "656de7d0-f005-44e7-92de-d0fc711b24c0"
            },
            "attachments": {}
        },
        {
            "cell_type": "code",
            "source": [
                "SELECT TOP 5 ProductID\r\n",
                "            ,SUM(UnitPrice * Quantity) AS TotalRevenue\r\n",
                "FROM OrderDetails\r\n",
                "GROUP BY ProductID\r\n",
                "ORDER BY TotalRevenue DESC;"
            ],
            "metadata": {
                "azdata_cell_guid": "bb80bd77-de3e-423a-81c5-dfcb3743937e",
                "language": "sql"
            },
            "outputs": [
                {
                    "output_type": "display_data",
                    "data": {
                        "text/html": "(5 rows affected)"
                    },
                    "metadata": {}
                },
                {
                    "output_type": "display_data",
                    "data": {
                        "text/html": "Total execution time: 00:00:00.159"
                    },
                    "metadata": {}
                },
                {
                    "output_type": "execute_result",
                    "metadata": {},
                    "execution_count": 38,
                    "data": {
                        "application/vnd.dataresource+json": {
                            "schema": {
                                "fields": [
                                    {
                                        "name": "ProductID"
                                    },
                                    {
                                        "name": "TotalRevenue"
                                    }
                                ]
                            },
                            "data": [
                                {
                                    "ProductID": "38",
                                    "TotalRevenue": "149984.20"
                                },
                                {
                                    "ProductID": "29",
                                    "TotalRevenue": "87736.40"
                                },
                                {
                                    "ProductID": "59",
                                    "TotalRevenue": "76296.00"
                                },
                                {
                                    "ProductID": "60",
                                    "TotalRevenue": "50286.00"
                                },
                                {
                                    "ProductID": "62",
                                    "TotalRevenue": "49827.90"
                                }
                            ]
                        },
                        "text/html": [
                            "<table>",
                            "<tr><th>ProductID</th><th>TotalRevenue</th></tr>",
                            "<tr><td>38</td><td>149984.20</td></tr>",
                            "<tr><td>29</td><td>87736.40</td></tr>",
                            "<tr><td>59</td><td>76296.00</td></tr>",
                            "<tr><td>60</td><td>50286.00</td></tr>",
                            "<tr><td>62</td><td>49827.90</td></tr>",
                            "</table>"
                        ]
                    }
                }
            ],
            "execution_count": 38
        },
        {
            "cell_type": "markdown",
            "source": [
                "# 🚀**6.  To get a list of customers who never placed an order**🚀\n",
                "\n",
                "<span style=\"color: #0000ff;\">SELECT</span> CustomerID\n",
                "\n",
                ",CompanyName\n",
                "\n",
                ",ContactName\n",
                "\n",
                ",ContactTitle\n",
                "\n",
                ",City, Country\n",
                "\n",
                "<span style=\"color: #0000ff;\">FROM</span> Customers\n",
                "\n",
                "<span style=\"color: #0000ff;\">WHERE</span> CustomerID <span style=\"color: #0000ff;\">NOT</span> <span style=\"color: #0000ff;\">IN</span> (<span style=\"color: #0000ff;\">SELECT DISTINCT</span> CustomerID <span style=\"color: #0000ff;\">FROM</span> Orders);"
            ],
            "metadata": {
                "language": "sql",
                "azdata_cell_guid": "363a71c9-67c6-4876-923e-fbfd55ef6829"
            },
            "attachments": {}
        },
        {
            "cell_type": "code",
            "source": [
                "SELECT CustomerID\r\n",
                ",CompanyName\r\n",
                ",ContactName\r\n",
                ",ContactTitle\r\n",
                ",City, Country\r\n",
                "FROM Customers\r\n",
                "WHERE CustomerID NOT IN (SELECT DISTINCT CustomerID FROM Orders);\r\n",
                ""
            ],
            "metadata": {
                "language": "sql",
                "azdata_cell_guid": "2f449902-4b10-4889-85b2-b0cc7f7ed1cc"
            },
            "outputs": [
                {
                    "output_type": "display_data",
                    "data": {
                        "text/html": "(2 rows affected)"
                    },
                    "metadata": {}
                },
                {
                    "output_type": "display_data",
                    "data": {
                        "text/html": "Total execution time: 00:00:00.066"
                    },
                    "metadata": {}
                },
                {
                    "output_type": "execute_result",
                    "execution_count": 4,
                    "data": {
                        "application/vnd.dataresource+json": {
                            "schema": {
                                "fields": [
                                    {
                                        "name": "CustomerID"
                                    },
                                    {
                                        "name": "CompanyName"
                                    },
                                    {
                                        "name": "ContactName"
                                    },
                                    {
                                        "name": "ContactTitle"
                                    },
                                    {
                                        "name": "City"
                                    },
                                    {
                                        "name": "Country"
                                    }
                                ]
                            },
                            "data": [
                                {
                                    "CustomerID": "FISSA",
                                    "CompanyName": "FISSA Fabrica Inter. Salchichas S.A.",
                                    "ContactName": "Diego Roel",
                                    "ContactTitle": "Accounting Manager",
                                    "City": "Madrid",
                                    "Country": "Spain"
                                },
                                {
                                    "CustomerID": "PARIS",
                                    "CompanyName": "Paris spécialités",
                                    "ContactName": "Marie Bertrand",
                                    "ContactTitle": "Owner",
                                    "City": "Paris",
                                    "Country": "France"
                                }
                            ]
                        },
                        "text/html": "<table><tr><th>CustomerID</th><th>CompanyName</th><th>ContactName</th><th>ContactTitle</th><th>City</th><th>Country</th></tr><tr><td>FISSA</td><td>FISSA Fabrica Inter. Salchichas S.A.</td><td>Diego Roel</td><td>Accounting Manager</td><td>Madrid</td><td>Spain</td></tr><tr><td>PARIS</td><td>Paris spécialités</td><td>Marie Bertrand</td><td>Owner</td><td>Paris</td><td>France</td></tr></table>"
                    },
                    "metadata": {}
                }
            ],
            "execution_count": 4
        },
        {
            "cell_type": "markdown",
            "source": [
                "# 🚀**7\\. To Find the product with the highest number of orders**🚀\n",
                "\n",
                "<span style=\"color: #0000ff;\">SELECT</span> ProductID, <span style=\"color: #795e26;\">COUNT</span>(OrderID) <span style=\"color: #0000ff;\">AS</span> OrderCount\n",
                "\n",
                "<span style=\"color: #0000ff;\">FROM</span> OrderDetails\n",
                "\n",
                "<span style=\"color: #0000ff;\">GROUP BY</span> ProductID\n",
                "\n",
                "<span style=\"color: #0000ff;\">ORDER BY</span> OrderCount <span style=\"color: #0000ff;\">DESC</span>;"
            ],
            "metadata": {
                "azdata_cell_guid": "22492c22-332c-46b7-b761-a062f32eb2ca"
            },
            "attachments": {}
        },
        {
            "cell_type": "code",
            "source": [
                "SELECT TOP 1 ProductID, COUNT(OrderID) AS OrderCount\r\n",
                "FROM OrderDetails\r\n",
                "GROUP BY ProductID\r\n",
                "ORDER BY OrderCount DESC;"
            ],
            "metadata": {
                "azdata_cell_guid": "4c4f05f4-f5bc-462c-89c3-619ba1ef1790",
                "language": "sql"
            },
            "outputs": [
                {
                    "output_type": "display_data",
                    "data": {
                        "text/html": "(1 row affected)"
                    },
                    "metadata": {}
                },
                {
                    "output_type": "display_data",
                    "data": {
                        "text/html": "Total execution time: 00:00:00.031"
                    },
                    "metadata": {}
                },
                {
                    "output_type": "execute_result",
                    "execution_count": 5,
                    "data": {
                        "application/vnd.dataresource+json": {
                            "schema": {
                                "fields": [
                                    {
                                        "name": "ProductID"
                                    },
                                    {
                                        "name": "OrderCount"
                                    }
                                ]
                            },
                            "data": [
                                {
                                    "ProductID": "59",
                                    "OrderCount": "54"
                                }
                            ]
                        },
                        "text/html": "<table><tr><th>ProductID</th><th>OrderCount</th></tr><tr><td>59</td><td>54</td></tr></table>"
                    },
                    "metadata": {}
                }
            ],
            "execution_count": 5
        },
        {
            "cell_type": "markdown",
            "source": [
                "# 🚀**8\\. To get a list of customers with most recent order dates**🚀\n",
                "\n",
                "<span style=\"color: #0000ff;\">SELECT</span> CustomerID\n",
                "\n",
                "        ,<span style=\"color: #795e26;\">MAX</span>(OrderDate) <span style=\"color: #0000ff;\">AS</span> MostRecentOrder\n",
                "\n",
                "<span style=\"color: #0000ff;\">FROM</span> Orders\n",
                "\n",
                "<span style=\"color: #0000ff;\">GROUP BY</span> CustomerID;"
            ],
            "metadata": {
                "azdata_cell_guid": "942ba70f-17d7-481b-8e0c-34affe69a085"
            },
            "attachments": {}
        },
        {
            "cell_type": "code",
            "source": [
                "SELECT TOP 5 CustomerID\r\n",
                "        ,MAX(OrderDate) AS MostRecentOrder\r\n",
                "FROM Orders\r\n",
                "GROUP BY CustomerID;"
            ],
            "metadata": {
                "language": "sql",
                "azdata_cell_guid": "d038efd6-831a-4796-adc0-60347361895d"
            },
            "outputs": [
                {
                    "output_type": "display_data",
                    "data": {
                        "text/html": "(5 rows affected)"
                    },
                    "metadata": {}
                },
                {
                    "output_type": "display_data",
                    "data": {
                        "text/html": "Total execution time: 00:00:00.052"
                    },
                    "metadata": {}
                },
                {
                    "output_type": "execute_result",
                    "execution_count": 7,
                    "data": {
                        "application/vnd.dataresource+json": {
                            "schema": {
                                "fields": [
                                    {
                                        "name": "CustomerID"
                                    },
                                    {
                                        "name": "MostRecentOrder"
                                    }
                                ]
                            },
                            "data": [
                                {
                                    "CustomerID": "ALFKI",
                                    "MostRecentOrder": "2023-04-09 00:00:00.000"
                                },
                                {
                                    "CustomerID": "ANATR",
                                    "MostRecentOrder": "2023-03-04 00:00:00.000"
                                },
                                {
                                    "CustomerID": "ANTON",
                                    "MostRecentOrder": "2023-01-28 00:00:00.000"
                                },
                                {
                                    "CustomerID": "AROUT",
                                    "MostRecentOrder": "2023-04-10 00:00:00.000"
                                },
                                {
                                    "CustomerID": "BERGS",
                                    "MostRecentOrder": "2023-03-04 00:00:00.000"
                                }
                            ]
                        },
                        "text/html": "<table><tr><th>CustomerID</th><th>MostRecentOrder</th></tr><tr><td>ALFKI</td><td>2023-04-09 00:00:00.000</td></tr><tr><td>ANATR</td><td>2023-03-04 00:00:00.000</td></tr><tr><td>ANTON</td><td>2023-01-28 00:00:00.000</td></tr><tr><td>AROUT</td><td>2023-04-10 00:00:00.000</td></tr><tr><td>BERGS</td><td>2023-03-04 00:00:00.000</td></tr></table>"
                    },
                    "metadata": {}
                }
            ],
            "execution_count": 7
        },
        {
            "cell_type": "markdown",
            "source": [
                "# 🚀**9\\. To know the quantity sold and total revenue generated for each product category**🚀\n",
                "\n",
                "<span style=\"color: #0000ff;\">ELECT</span> Cat.CategoryName\n",
                "\n",
                "       ,<span style=\"color: #795e26;\">SUM</span>(Ord.Quantity) <span style=\"color: #0000ff;\">AS</span> TotalQuantity,\n",
                "\n",
                "       <span style=\"color: #795e26;\">SUM</span>(Ord.UnitPrice <span style=\"color: #000000;\">*</span> Ord.Quantity) <span style=\"color: #0000ff;\">AS</span> TotalRevenue\n",
                "\n",
                "<span style=\"color: #0000ff;\">FROM</span> OrderDetails Ord\n",
                "\n",
                "<span style=\"color: #0000ff;\">JOIN</span> Products prod <span style=\"color: #0000ff;\">ON</span> Ord.ProductID <span style=\"color: #000000;\">=</span> Prod.ProductID\n",
                "\n",
                "<span style=\"color: #0000ff;\">JOIN</span> Categories  Cat <span style=\"color: #0000ff;\">ON</span> Prod.CategoryID <span style=\"color: #000000;\">=</span> Cat.CategoryID\n",
                "\n",
                "<span style=\"color: #0000ff;\">GROUP BY</span> Cat.CategoryName;"
            ],
            "metadata": {
                "language": "sql",
                "azdata_cell_guid": "1bb0f277-e002-4bf5-877d-bb5036f34092"
            },
            "attachments": {}
        },
        {
            "cell_type": "code",
            "source": [
                "SELECT Cat.CategoryName\r\n",
                "       ,SUM(Ord.Quantity) AS TotalQuantity, \r\n",
                "       SUM(Ord.UnitPrice * Ord.Quantity) AS TotalRevenue\r\n",
                "FROM OrderDetails Ord\r\n",
                "JOIN Products prod ON Ord.ProductID = Prod.ProductID\r\n",
                "JOIN Categories  Cat ON Prod.CategoryID = Cat.CategoryID\r\n",
                "GROUP BY Cat.CategoryName;"
            ],
            "metadata": {
                "language": "sql",
                "azdata_cell_guid": "7d6dcb86-82a9-4a35-ac86-0c5905b031dc",
                "tags": []
            },
            "outputs": [
                {
                    "output_type": "display_data",
                    "data": {
                        "text/html": "(8 rows affected)"
                    },
                    "metadata": {}
                },
                {
                    "output_type": "display_data",
                    "data": {
                        "text/html": "Total execution time: 00:00:00.053"
                    },
                    "metadata": {}
                },
                {
                    "output_type": "execute_result",
                    "execution_count": 9,
                    "data": {
                        "application/vnd.dataresource+json": {
                            "schema": {
                                "fields": [
                                    {
                                        "name": "CategoryName"
                                    },
                                    {
                                        "name": "TotalQuantity"
                                    },
                                    {
                                        "name": "TotalRevenue"
                                    }
                                ]
                            },
                            "data": [
                                {
                                    "CategoryName": "Seafood",
                                    "TotalQuantity": "7681",
                                    "TotalRevenue": "141623.09"
                                },
                                {
                                    "CategoryName": "Meat/Poultry",
                                    "TotalQuantity": "4199",
                                    "TotalRevenue": "178188.80"
                                },
                                {
                                    "CategoryName": "Condiments",
                                    "TotalQuantity": "5298",
                                    "TotalRevenue": "113694.75"
                                },
                                {
                                    "CategoryName": "Confections",
                                    "TotalQuantity": "7906",
                                    "TotalRevenue": "177099.10"
                                },
                                {
                                    "CategoryName": "Produce",
                                    "TotalQuantity": "2990",
                                    "TotalRevenue": "105268.60"
                                },
                                {
                                    "CategoryName": "Dairy Products",
                                    "TotalQuantity": "9149",
                                    "TotalRevenue": "251330.50"
                                },
                                {
                                    "CategoryName": "Beverages",
                                    "TotalQuantity": "9532",
                                    "TotalRevenue": "286526.95"
                                },
                                {
                                    "CategoryName": "Grains/Cereals",
                                    "TotalQuantity": "4562",
                                    "TotalRevenue": "100726.80"
                                }
                            ]
                        },
                        "text/html": "<table><tr><th>CategoryName</th><th>TotalQuantity</th><th>TotalRevenue</th></tr><tr><td>Seafood</td><td>7681</td><td>141623.09</td></tr><tr><td>Meat/Poultry</td><td>4199</td><td>178188.80</td></tr><tr><td>Condiments</td><td>5298</td><td>113694.75</td></tr><tr><td>Confections</td><td>7906</td><td>177099.10</td></tr><tr><td>Produce</td><td>2990</td><td>105268.60</td></tr><tr><td>Dairy Products</td><td>9149</td><td>251330.50</td></tr><tr><td>Beverages</td><td>9532</td><td>286526.95</td></tr><tr><td>Grains/Cereals</td><td>4562</td><td>100726.80</td></tr></table>"
                    },
                    "metadata": {}
                }
            ],
            "execution_count": 9
        },
        {
            "cell_type": "markdown",
            "source": [
                "# 🚀**10\\. To know the shipping destination and month and year having the highest number        of orders**\n",
                "\n",
                "<span style=\"color: #0000ff;\">SELECT</span> <span style=\"color: #0000ff;\">TOP</span> <span style=\"color: #09885a;\">5</span> <span style=\"color: #795e26;\">YEAR</span>(OrderDate) <span style=\"color: #0000ff;\">AS</span> OrderYear, <span style=\"color: #795e26;\">MONTH</span>(OrderDate) <span style=\"color: #0000ff;\">AS</span> OrderMonth, <span style=\"color: #795e26;\">COUNT</span>(OrderID) <span style=\"color: #0000ff;\">AS</span> TotalOrders\n",
                "\n",
                "        ,ShipCountry\n",
                "\n",
                "<span style=\"color: #0000ff;\">FROM</span> Orders\n",
                "\n",
                "<span style=\"color: #0000ff;\">GROUP BY</span> <span style=\"color: #795e26;\">YEAR</span>(OrderDate), <span style=\"color: #795e26;\">MONTH</span>(OrderDate), ShipCountry\n",
                "\n",
                "<span style=\"color: #0000ff;\">ORDER BY</span> TotalOrders <span style=\"color: #0000ff;\">DESC</span>;"
            ],
            "metadata": {
                "language": "sql",
                "azdata_cell_guid": "ecd05ee9-5162-47aa-828b-7a181c6c567e"
            },
            "attachments": {}
        },
        {
            "cell_type": "code",
            "source": [
                "SELECT TOP 5 YEAR(OrderDate) AS OrderYear, MONTH(OrderDate) AS OrderMonth, COUNT(OrderID) AS TotalOrders\r\n",
                "\t\t,ShipCountry\r\n",
                "FROM Orders\r\n",
                "GROUP BY YEAR(OrderDate), MONTH(OrderDate), ShipCountry\r\n",
                "ORDER BY TotalOrders DESC;"
            ],
            "metadata": {
                "language": "sql",
                "azdata_cell_guid": "41ca00a3-6057-418d-90fa-a73304b59931",
                "tags": []
            },
            "outputs": [
                {
                    "output_type": "display_data",
                    "data": {
                        "text/html": "(5 rows affected)"
                    },
                    "metadata": {}
                },
                {
                    "output_type": "display_data",
                    "data": {
                        "text/html": "Total execution time: 00:00:00.255"
                    },
                    "metadata": {}
                },
                {
                    "output_type": "execute_result",
                    "execution_count": 11,
                    "data": {
                        "application/vnd.dataresource+json": {
                            "schema": {
                                "fields": [
                                    {
                                        "name": "OrderYear"
                                    },
                                    {
                                        "name": "OrderMonth"
                                    },
                                    {
                                        "name": "TotalOrders"
                                    },
                                    {
                                        "name": "ShipCountry"
                                    }
                                ]
                            },
                            "data": [
                                {
                                    "OrderYear": "2023",
                                    "OrderMonth": "4",
                                    "TotalOrders": "12",
                                    "ShipCountry": "USA"
                                },
                                {
                                    "OrderYear": "2022",
                                    "OrderMonth": "10",
                                    "TotalOrders": "11",
                                    "ShipCountry": "USA"
                                },
                                {
                                    "OrderYear": "2023",
                                    "OrderMonth": "4",
                                    "TotalOrders": "11",
                                    "ShipCountry": "Germany"
                                },
                                {
                                    "OrderYear": "2022",
                                    "OrderMonth": "7",
                                    "TotalOrders": "10",
                                    "ShipCountry": "USA"
                                },
                                {
                                    "OrderYear": "2023",
                                    "OrderMonth": "1",
                                    "TotalOrders": "10",
                                    "ShipCountry": "USA"
                                }
                            ]
                        },
                        "text/html": "<table><tr><th>OrderYear</th><th>OrderMonth</th><th>TotalOrders</th><th>ShipCountry</th></tr><tr><td>2023</td><td>4</td><td>12</td><td>USA</td></tr><tr><td>2022</td><td>10</td><td>11</td><td>USA</td></tr><tr><td>2023</td><td>4</td><td>11</td><td>Germany</td></tr><tr><td>2022</td><td>7</td><td>10</td><td>USA</td></tr><tr><td>2023</td><td>1</td><td>10</td><td>USA</td></tr></table>"
                    },
                    "metadata": {}
                }
            ],
            "execution_count": 11
        },
        {
            "cell_type": "markdown",
            "source": [
                "# 🚀**11. Average Freight Charges for the Last 12 Months:**🚀\n",
                "\n",
                "<span style=\"color: #0000ff;\">DECLARE</span> @MostRecentDate <span style=\"color: #0000ff;\">DATE</span> <span style=\"color: #000000;\">=</span> (<span style=\"color: #0000ff;\">SELECT</span> <span style=\"color: #795e26;\">MAX</span>(OrderDate) <span style=\"color: #0000ff;\">FROM</span> Orders);\n",
                "\n",
                "<span style=\"color: #0000ff;\">SELECT</span> ShipCountry\n",
                "\n",
                "> , <span style=\"color: #795e26;\">AVG</span>(Freight) <span style=\"color: #0000ff;\">AS</span> AverageFreight\n",
                "\n",
                "<span style=\"color: #0000ff;\">FROM</span> Orders\n",
                "\n",
                "<span style=\"color: #0000ff;\">WHERE</span> OrderDate <span style=\"color: #000000;\">&gt;=</span> <span style=\"color: #795e26;\">DATEADD</span>(<span style=\"color: #0000ff;\">YEAR</span>, <span style=\"color: #000000;\">-</span><span style=\"color: #09885a;\">1</span>, @MostRecentDate)\n",
                "\n",
                "<span style=\"color: #0000ff;\">GROUP BY</span> ShipCountry\n",
                "\n",
                "<span style=\"color: #0000ff;\">ORDER BY</span> AverageFreight <span style=\"color: #0000ff;\">DESC</span>;"
            ],
            "metadata": {
                "language": "sql",
                "azdata_cell_guid": "156016b5-7992-40f4-918b-8a1454ae6f2a"
            },
            "attachments": {}
        },
        {
            "cell_type": "code",
            "source": [
                "DECLARE @MostRecentDate DATE = (SELECT MAX(OrderDate) FROM Orders);\r\n",
                "SELECT TOP 3 ShipCountry, AVG(Freight) AS AverageFreight\r\n",
                "FROM Orders\r\n",
                "WHERE OrderDate >= DATEADD(YEAR, -1, @MostRecentDate)\r\n",
                "GROUP BY ShipCountry\r\n",
                "ORDER BY AverageFreight DESC;"
            ],
            "metadata": {
                "language": "sql",
                "azdata_cell_guid": "601cd70f-aa1b-4923-99fd-57c1b2e03c68",
                "tags": []
            },
            "outputs": [
                {
                    "output_type": "display_data",
                    "data": {
                        "text/html": "(3 rows affected)"
                    },
                    "metadata": {}
                },
                {
                    "output_type": "display_data",
                    "data": {
                        "text/html": "Total execution time: 00:00:00.037"
                    },
                    "metadata": {}
                },
                {
                    "output_type": "execute_result",
                    "execution_count": 13,
                    "data": {
                        "application/vnd.dataresource+json": {
                            "schema": {
                                "fields": [
                                    {
                                        "name": "ShipCountry"
                                    },
                                    {
                                        "name": "AverageFreight"
                                    }
                                ]
                            },
                            "data": [
                                {
                                    "ShipCountry": "Ireland",
                                    "AverageFreight": "200.21"
                                },
                                {
                                    "ShipCountry": "Austria",
                                    "AverageFreight": "186.4596"
                                },
                                {
                                    "ShipCountry": "USA",
                                    "AverageFreight": "117.9704"
                                }
                            ]
                        },
                        "text/html": "<table><tr><th>ShipCountry</th><th>AverageFreight</th></tr><tr><td>Ireland</td><td>200.21</td></tr><tr><td>Austria</td><td>186.4596</td></tr><tr><td>USA</td><td>117.9704</td></tr></table>"
                    },
                    "metadata": {}
                }
            ],
            "execution_count": 13
        },
        {
            "cell_type": "markdown",
            "source": [
                ""
            ],
            "metadata": {
                "language": "sql",
                "azdata_cell_guid": "7eb0317e-87b9-4be3-9aa2-faeb3c78fb5b"
            }
        },
        {
            "cell_type": "markdown",
            "source": [
                "# 🚀**12. Calculating average order total using a CTE**🚀\n",
                "\n",
                "<span style=\"color: #0000ff;\">WITH</span> AvgOrderTotal <span style=\"color: #0000ff;\">AS</span> (\n",
                "\n",
                "    <span style=\"color: #0000ff;\">SELECT</span> OrderID\n",
                "\n",
                "        , <span style=\"color: #795e26;\">SUM</span>(UnitPrice <span style=\"color: #000000;\">*</span> Quantity) <span style=\"color: #0000ff;\">AS</span> OrderTotal\n",
                "\n",
                "    <span style=\"color: #0000ff;\">FROM</span> \\[OrderDetails\\]\n",
                "\n",
                "    <span style=\"color: #0000ff;\">GROUP BY</span> OrderID\n",
                "\n",
                ")\n",
                "\n",
                "<span style=\"color: #0000ff;\">SELECT</span> <span style=\"color: #795e26;\">AVG</span>(OrderTotal) <span style=\"color: #0000ff;\">AS</span> AvgOrderValue <span style=\"color: #0000ff;\">FROM</span> AvgOrderTotal;"
            ],
            "metadata": {
                "language": "sql",
                "azdata_cell_guid": "e8766b18-e3a9-42b4-be2c-24134ed00ffe"
            },
            "attachments": {}
        },
        {
            "cell_type": "code",
            "source": [
                "WITH AvgOrderTotal AS (\r\n",
                "    SELECT OrderID\r\n",
                "        , SUM(UnitPrice * Quantity) AS OrderTotal\r\n",
                "    FROM [OrderDetails]\r\n",
                "    GROUP BY OrderID\r\n",
                ")\r\n",
                "SELECT AVG(OrderTotal) AS AvgOrderValue FROM AvgOrderTotal;"
            ],
            "metadata": {
                "language": "sql",
                "azdata_cell_guid": "9c648dfa-623b-4103-baa6-645bbddbdaf9"
            },
            "outputs": [
                {
                    "output_type": "display_data",
                    "data": {
                        "text/html": "(1 row affected)"
                    },
                    "metadata": {}
                },
                {
                    "output_type": "display_data",
                    "data": {
                        "text/html": "Total execution time: 00:00:00.111"
                    },
                    "metadata": {}
                },
                {
                    "output_type": "execute_result",
                    "execution_count": 15,
                    "data": {
                        "application/vnd.dataresource+json": {
                            "schema": {
                                "fields": [
                                    {
                                        "name": "AvgOrderValue"
                                    }
                                ]
                            },
                            "data": [
                                {
                                    "AvgOrderValue": "1631.8778"
                                }
                            ]
                        },
                        "text/html": "<table><tr><th>AvgOrderValue</th></tr><tr><td>1631.8778</td></tr></table>"
                    },
                    "metadata": {}
                }
            ],
            "execution_count": 15
        },
        {
            "cell_type": "markdown",
            "source": [
                "# 🚀**13. Using CASE to flag high value orders**🚀🚀\n",
                "\n",
                "<span style=\"color: #0000ff;\">SELECT</span> OrderID,\n",
                "\n",
                "    <span style=\"color: #795e26;\">SUM</span>(UnitPrice <span style=\"color: #000000;\">*</span> Quantity) <span style=\"color: #0000ff;\">AS</span> OrderValue,\n",
                "\n",
                "    <span style=\"color: #0000ff;\">CASE</span>\n",
                "\n",
                "        <span style=\"color: #0000ff;\">WHEN</span> <span style=\"color: #795e26;\">SUM</span>(UnitPrice <span style=\"color: #000000;\">*</span> Quantity) <span style=\"color: #000000;\">&gt;</span> <span style=\"color: #09885a;\">1000</span> <span style=\"color: #0000ff;\">THEN</span> <span style=\"color: #a31515;\">'High-Value'</span>\n",
                "\n",
                "        <span style=\"color: #0000ff;\">ELSE</span> <span style=\"color: #a31515;\">'Regular'</span>\n",
                "\n",
                "    <span style=\"color: #0000ff;\">END</span> <span style=\"color: #0000ff;\">AS</span> OrderType\n",
                "\n",
                "<span style=\"color: #0000ff;\">FROM</span> \\[OrderDetails\\]\n",
                "\n",
                "<span style=\"color: #0000ff;\">GROUP BY</span> OrderID\n",
                "\n",
                "<span style=\"color: #0000ff;\">ORDER BY</span> OrderValue <span style=\"color: #0000ff;\">DESC</span>;"
            ],
            "metadata": {
                "language": "sql",
                "azdata_cell_guid": "cf39de75-4185-4b7a-895b-34def7445d7a"
            },
            "attachments": {}
        },
        {
            "cell_type": "code",
            "source": [
                "SELECT TOP (5) \r\n",
                "    OrderID, \r\n",
                "    SUM(UnitPrice * Quantity) AS OrderValue,\r\n",
                "    CASE \r\n",
                "        WHEN SUM(UnitPrice * Quantity) > 1000 THEN 'High-Value'\r\n",
                "        ELSE 'Regular'\r\n",
                "    END AS OrderType\r\n",
                "FROM [OrderDetails]\r\n",
                "GROUP BY OrderID\r\n",
                "ORDER BY OrderValue DESC;  "
            ],
            "metadata": {
                "language": "sql",
                "azdata_cell_guid": "5287e379-b5a3-4f6c-99af-3c178f763651"
            },
            "outputs": [
                {
                    "output_type": "display_data",
                    "data": {
                        "text/html": "(5 rows affected)"
                    },
                    "metadata": {}
                },
                {
                    "output_type": "display_data",
                    "data": {
                        "text/html": "Total execution time: 00:00:00.065"
                    },
                    "metadata": {}
                },
                {
                    "output_type": "execute_result",
                    "execution_count": 16,
                    "data": {
                        "application/vnd.dataresource+json": {
                            "schema": {
                                "fields": [
                                    {
                                        "name": "OrderID"
                                    },
                                    {
                                        "name": "OrderValue"
                                    },
                                    {
                                        "name": "OrderType"
                                    }
                                ]
                            },
                            "data": [
                                {
                                    "OrderID": "10865",
                                    "OrderValue": "17250.00",
                                    "OrderType": "High-Value"
                                },
                                {
                                    "OrderID": "11030",
                                    "OrderValue": "16321.90",
                                    "OrderType": "High-Value"
                                },
                                {
                                    "OrderID": "10981",
                                    "OrderValue": "15810.00",
                                    "OrderType": "High-Value"
                                },
                                {
                                    "OrderID": "10372",
                                    "OrderValue": "12281.20",
                                    "OrderType": "High-Value"
                                },
                                {
                                    "OrderID": "10424",
                                    "OrderValue": "11493.20",
                                    "OrderType": "High-Value"
                                }
                            ]
                        },
                        "text/html": "<table><tr><th>OrderID</th><th>OrderValue</th><th>OrderType</th></tr><tr><td>10865</td><td>17250.00</td><td>High-Value</td></tr><tr><td>11030</td><td>16321.90</td><td>High-Value</td></tr><tr><td>10981</td><td>15810.00</td><td>High-Value</td></tr><tr><td>10372</td><td>12281.20</td><td>High-Value</td></tr><tr><td>10424</td><td>11493.20</td><td>High-Value</td></tr></table>"
                    },
                    "metadata": {}
                }
            ],
            "execution_count": 16
        },
        {
            "cell_type": "markdown",
            "source": [
                "# 🚀**14. Number of customers by customer type (individual, corporate,  enterprise)**🚀\n",
                "\n",
                "<span style=\"color: #0000ff;\">ELECT</span> CustomerType,\n",
                "\n",
                "       <span style=\"color: #795e26;\">COUNT</span>(OrderID) <span style=\"color: #0000ff;\">AS</span> TotalOrders\n",
                "\n",
                "<span style=\"color: #0000ff;\">FROM</span> (\n",
                "\n",
                "    <span style=\"color: #0000ff;\">SELECT</span> CompanyName,\n",
                "\n",
                "           <span style=\"color: #0000ff;\">CASE</span> <span style=\"color: #0000ff;\">WHEN</span> CompanyName <span style=\"color: #0000ff;\">LIKE</span> <span style=\"color: #a31515;\">'%Ltd%'</span> <span style=\"color: #0000ff;\">THEN</span> <span style=\"color: #a31515;\">'Corporate'</span>\n",
                "\n",
                "                <span style=\"color: #0000ff;\">WHEN</span> CompanyName <span style=\"color: #0000ff;\">LIKE</span> <span style=\"color: #a31515;\">'%Inc%'</span> <span style=\"color: #0000ff;\">THEN</span> <span style=\"color: #a31515;\">'Enterprise'</span>\n",
                "\n",
                "                <span style=\"color: #0000ff;\">ELSE</span> <span style=\"color: #a31515;\">'Individuals'</span>\n",
                "\n",
                "           <span style=\"color: #0000ff;\">END</span> <span style=\"color: #0000ff;\">AS</span> CustomerType,\n",
                "\n",
                "           OrderID\n",
                "\n",
                "    <span style=\"color: #0000ff;\">FROM</span> Customers c\n",
                "\n",
                "    <span style=\"color: #0000ff;\">JOIN</span> Orders o <span style=\"color: #0000ff;\">ON</span> c.CustomerID <span style=\"color: #000000;\">=</span> o.CustomerID\n",
                "\n",
                ") <span style=\"color: #0000ff;\">AS</span> CustomerOrders\n",
                "\n",
                "<span style=\"color: #0000ff;\">GROUP BY</span> CustomerType;"
            ],
            "metadata": {
                "language": "sql",
                "azdata_cell_guid": "6e4048bf-de61-4614-91eb-b742bb2fbe2e"
            },
            "attachments": {}
        },
        {
            "cell_type": "code",
            "source": [
                "SELECT CustomerType,\r\n",
                "       COUNT(OrderID) AS TotalOrders\r\n",
                "FROM (\r\n",
                "    SELECT CompanyName,\r\n",
                "           CASE WHEN CompanyName LIKE '%Ltd%' THEN 'Corporate'\r\n",
                "                WHEN CompanyName LIKE '%Inc%' THEN 'Enterprise'\r\n",
                "                ELSE 'Individuals'\r\n",
                "           END AS CustomerType,\r\n",
                "           OrderID\r\n",
                "    FROM Customers c\r\n",
                "    JOIN Orders o ON c.CustomerID = o.CustomerID\r\n",
                ") AS CustomerOrders\r\n",
                "GROUP BY CustomerType;\r\n",
                ""
            ],
            "metadata": {
                "language": "sql",
                "azdata_cell_guid": "a175205a-538a-42df-bed5-3ccd54e80a72"
            },
            "outputs": [
                {
                    "output_type": "display_data",
                    "data": {
                        "text/html": "(3 rows affected)"
                    },
                    "metadata": {}
                },
                {
                    "output_type": "display_data",
                    "data": {
                        "text/html": "Total execution time: 00:00:00.053"
                    },
                    "metadata": {}
                },
                {
                    "output_type": "execute_result",
                    "execution_count": 18,
                    "data": {
                        "application/vnd.dataresource+json": {
                            "schema": {
                                "fields": [
                                    {
                                        "name": "CustomerType"
                                    },
                                    {
                                        "name": "TotalOrders"
                                    }
                                ]
                            },
                            "data": [
                                {
                                    "CustomerType": "Individuals",
                                    "TotalOrders": "820"
                                },
                                {
                                    "CustomerType": "Corporate",
                                    "TotalOrders": "5"
                                },
                                {
                                    "CustomerType": "Enterprise",
                                    "TotalOrders": "5"
                                }
                            ]
                        },
                        "text/html": "<table><tr><th>CustomerType</th><th>TotalOrders</th></tr><tr><td>Individuals</td><td>820</td></tr><tr><td>Corporate</td><td>5</td></tr><tr><td>Enterprise</td><td>5</td></tr></table>"
                    },
                    "metadata": {}
                }
            ],
            "execution_count": 18
        },
        {
            "cell_type": "markdown",
            "source": [
                "# 🚀**15.  Order by Quater for Each Year showing overall highest total orders in all quaters**🚀🚀\n",
                "\n",
                "<span style=\"color: #0000ff;\">SELECT</span> <span style=\"color: #795e26;\">YEAR</span>(OrderDate) <span style=\"color: #0000ff;\">AS</span> <span style=\"color: #0000ff;\">Year</span>\n",
                "\n",
                "        ,<span style=\"color: #795e26;\">DATEPART</span>(<span style=\"color: #0000ff;\">quarter</span>, OrderDate) <span style=\"color: #0000ff;\">AS</span> <span style=\"color: #0000ff;\">Quarter</span>,\n",
                "\n",
                "       <span style=\"color: #795e26;\">COUNT</span>(OrderID) <span style=\"color: #0000ff;\">AS</span> Orders\n",
                "\n",
                "<span style=\"color: #0000ff;\">FROM</span> Orders\n",
                "\n",
                "<span style=\"color: #0000ff;\">GROUP BY</span> <span style=\"color: #795e26;\">YEAR</span>(OrderDate), <span style=\"color: #795e26;\">DATEPART</span>(<span style=\"color: #0000ff;\">quarter</span>, OrderDate)\n",
                "\n",
                "<span style=\"color: #0000ff;\">ORDER BY</span> Orders <span style=\"color: #0000ff;\">DESC</span>;"
            ],
            "metadata": {
                "language": "sql",
                "azdata_cell_guid": "3a7941d0-4007-448f-98e4-3cb4fb1d7561"
            },
            "attachments": {}
        },
        {
            "cell_type": "code",
            "source": [
                "SELECT TOP (5) YEAR(OrderDate) AS Year\r\n",
                "        ,DATEPART(quarter, OrderDate) AS Quarter,\r\n",
                "       COUNT(OrderID) AS Orders\r\n",
                "FROM Orders\r\n",
                "GROUP BY YEAR(OrderDate), DATEPART(quarter, OrderDate)\r\n",
                "ORDER BY Orders DESC;"
            ],
            "metadata": {
                "language": "sql",
                "azdata_cell_guid": "2362f34a-aecb-4cfe-95b1-b2108b9ec0d1"
            },
            "outputs": [
                {
                    "output_type": "display_data",
                    "data": {
                        "text/html": "(5 rows affected)"
                    },
                    "metadata": {}
                },
                {
                    "output_type": "display_data",
                    "data": {
                        "text/html": "Total execution time: 00:00:00.032"
                    },
                    "metadata": {}
                },
                {
                    "output_type": "execute_result",
                    "execution_count": 19,
                    "data": {
                        "application/vnd.dataresource+json": {
                            "schema": {
                                "fields": [
                                    {
                                        "name": "Year"
                                    },
                                    {
                                        "name": "Quarter"
                                    },
                                    {
                                        "name": "Orders"
                                    }
                                ]
                            },
                            "data": [
                                {
                                    "Year": "2023",
                                    "Quarter": "1",
                                    "Orders": "182"
                                },
                                {
                                    "Year": "2022",
                                    "Quarter": "4",
                                    "Orders": "120"
                                },
                                {
                                    "Year": "2022",
                                    "Quarter": "3",
                                    "Orders": "103"
                                },
                                {
                                    "Year": "2022",
                                    "Quarter": "2",
                                    "Orders": "93"
                                },
                                {
                                    "Year": "2022",
                                    "Quarter": "1",
                                    "Orders": "92"
                                }
                            ]
                        },
                        "text/html": "<table><tr><th>Year</th><th>Quarter</th><th>Orders</th></tr><tr><td>2023</td><td>1</td><td>182</td></tr><tr><td>2022</td><td>4</td><td>120</td></tr><tr><td>2022</td><td>3</td><td>103</td></tr><tr><td>2022</td><td>2</td><td>93</td></tr><tr><td>2022</td><td>1</td><td>92</td></tr></table>"
                    },
                    "metadata": {}
                }
            ],
            "execution_count": 19
        },
        {
            "cell_type": "markdown",
            "source": [
                "# 🚀**16\\. Identify Employees who Shipped Over 10 Orders in a Month**🚀\n",
                "\n",
                "<span style=\"color: #0000ff;\">SELECT</span> EmployeeID, <span style=\"color: #795e26;\">COUNT</span>(OrderID) <span style=\"color: #0000ff;\">AS</span> OrdersShipped\n",
                "\n",
                "<span style=\"color: #0000ff;\">FROM</span> Orders\n",
                "\n",
                "<span style=\"color: #0000ff;\">GROUP BY</span> EmployeeID, <span style=\"color: #795e26;\">MONTH</span>(OrderDate)\n",
                "\n",
                "<span style=\"color: #0000ff;\">HAVING</span> <span style=\"color: #795e26;\">COUNT</span>(OrderID) <span style=\"color: #000000;\">&gt;</span> <span style=\"color: #09885a;\">10</span>\n",
                "\n",
                "<span style=\"color: #0000ff;\">ORDER BY</span> OrdersShipped <span style=\"color: #0000ff;\">DESC</span>;"
            ],
            "metadata": {
                "azdata_cell_guid": "9219ed67-7705-4f42-a656-fdf47a5a1dc6"
            },
            "attachments": {}
        },
        {
            "cell_type": "code",
            "source": [
                "SELECT TOP 5 EmployeeID, COUNT(OrderID) AS OrdersShipped\r\n",
                "FROM Orders\r\n",
                "GROUP BY EmployeeID, MONTH(OrderDate)\r\n",
                "HAVING COUNT(OrderID) > 10\r\n",
                "ORDER BY OrdersShipped DESC;"
            ],
            "metadata": {
                "azdata_cell_guid": "fc8c4b7c-c8ab-4b4f-a365-e8fb234a58af",
                "language": "sql"
            },
            "outputs": [
                {
                    "output_type": "display_data",
                    "data": {
                        "text/html": "(5 rows affected)"
                    },
                    "metadata": {}
                },
                {
                    "output_type": "display_data",
                    "data": {
                        "text/html": "Total execution time: 00:00:02.562"
                    },
                    "metadata": {}
                },
                {
                    "output_type": "execute_result",
                    "metadata": {},
                    "execution_count": 2,
                    "data": {
                        "application/vnd.dataresource+json": {
                            "schema": {
                                "fields": [
                                    {
                                        "name": "EmployeeID"
                                    },
                                    {
                                        "name": "OrdersShipped"
                                    }
                                ]
                            },
                            "data": [
                                {
                                    "EmployeeID": "2",
                                    "OrdersShipped": "21"
                                },
                                {
                                    "EmployeeID": "4",
                                    "OrdersShipped": "20"
                                },
                                {
                                    "EmployeeID": "4",
                                    "OrdersShipped": "18"
                                },
                                {
                                    "EmployeeID": "3",
                                    "OrdersShipped": "17"
                                },
                                {
                                    "EmployeeID": "1",
                                    "OrdersShipped": "16"
                                }
                            ]
                        },
                        "text/html": [
                            "<table>",
                            "<tr><th>EmployeeID</th><th>OrdersShipped</th></tr>",
                            "<tr><td>2</td><td>21</td></tr>",
                            "<tr><td>4</td><td>20</td></tr>",
                            "<tr><td>4</td><td>18</td></tr>",
                            "<tr><td>3</td><td>17</td></tr>",
                            "<tr><td>1</td><td>16</td></tr>",
                            "</table>"
                        ]
                    }
                }
            ],
            "execution_count": 2
        },
        {
            "cell_type": "markdown",
            "source": [
                "# 🚀**17\\. To determine the sales performance by employee across different years using                PIVOT**🚀🚀\n",
                "\n",
                "<span style=\"color: #0000ff;\">SELECT</span> <span style=\"color: #0000ff;\">TOP</span> <span style=\"color: #09885a;\">5</span>\n",
                "\n",
                "    EmployeeID,\n",
                "\n",
                "    \\[2021\\],\n",
                "\n",
                "    \\[2022\\],\n",
                "\n",
                "    \\[2023\\]\n",
                "\n",
                "<span style=\"color: #0000ff;\">FROM</span>\n",
                "\n",
                "    (\n",
                "\n",
                "        <span style=\"color: #0000ff;\">SELECT</span>\n",
                "\n",
                "            EmployeeID,\n",
                "\n",
                "            <span style=\"color: #795e26;\">YEAR</span>(OrderDate) <span style=\"color: #0000ff;\">AS</span> OrderYear,\n",
                "\n",
                "            UnitPrice <span style=\"color: #000000;\">*</span> Quantity <span style=\"color: #0000ff;\">AS</span> Sales\n",
                "\n",
                "        <span style=\"color: #0000ff;\">FROM</span>\n",
                "\n",
                "            Orders\n",
                "\n",
                "        <span style=\"color: #0000ff;\">INNER JOIN</span>\n",
                "\n",
                "            OrderDetails\n",
                "\n",
                "        <span style=\"color: #0000ff;\">ON</span>\n",
                "\n",
                "            Orders.OrderID <span style=\"color: #000000;\">=</span> OrderDetails.OrderID\n",
                "\n",
                "    ) <span style=\"color: #0000ff;\">AS</span> SourceTable\n",
                "\n",
                "PIVOT\n",
                "\n",
                "    (\n",
                "\n",
                "        <span style=\"color: #795e26;\">SUM</span>(Sales) <span style=\"color: #0000ff;\">FOR</span> OrderYear <span style=\"color: #0000ff;\">IN</span> (\\[2021\\], \\[2022\\], \\[2023\\])\n",
                "\n",
                "    ) <span style=\"color: #0000ff;\">AS</span> PivotTable;"
            ],
            "metadata": {
                "language": "sql",
                "azdata_cell_guid": "a06e49fd-abc5-4d64-9975-e4ad51d2372a"
            },
            "attachments": {}
        },
        {
            "cell_type": "code",
            "source": [
                "SELECT TOP 5\r\n",
                "    EmployeeID, \r\n",
                "    [2021], \r\n",
                "    [2022], \r\n",
                "    [2023]\r\n",
                "FROM \r\n",
                "    (\r\n",
                "        SELECT \r\n",
                "            EmployeeID, \r\n",
                "            YEAR(OrderDate) AS OrderYear, \r\n",
                "            UnitPrice * Quantity AS Sales\r\n",
                "        FROM \r\n",
                "            Orders \r\n",
                "        INNER JOIN \r\n",
                "            OrderDetails \r\n",
                "        ON \r\n",
                "            Orders.OrderID = OrderDetails.OrderID\r\n",
                "    ) AS SourceTable\r\n",
                "PIVOT \r\n",
                "    (\r\n",
                "        SUM(Sales) FOR OrderYear IN ([2021], [2022], [2023])\r\n",
                "    ) AS PivotTable;\r\n",
                ""
            ],
            "metadata": {
                "azdata_cell_guid": "059a8444-8991-4b16-816e-91cab1cfc261",
                "language": "sql"
            },
            "outputs": [
                {
                    "output_type": "display_data",
                    "data": {
                        "text/html": "(5 rows affected)"
                    },
                    "metadata": {}
                },
                {
                    "output_type": "display_data",
                    "data": {
                        "text/html": "Total execution time: 00:00:00.064"
                    },
                    "metadata": {}
                },
                {
                    "output_type": "execute_result",
                    "metadata": {},
                    "execution_count": 7,
                    "data": {
                        "application/vnd.dataresource+json": {
                            "schema": {
                                "fields": [
                                    {
                                        "name": "EmployeeID"
                                    },
                                    {
                                        "name": "2021"
                                    },
                                    {
                                        "name": "2022"
                                    },
                                    {
                                        "name": "2023"
                                    }
                                ]
                            },
                            "data": [
                                {
                                    "2021": "11365.70",
                                    "2022": "29577.55",
                                    "2023": "42020.75",
                                    "EmployeeID": "9"
                                },
                                {
                                    "2021": "19231.80",
                                    "2022": "111788.61",
                                    "2023": "82030.89",
                                    "EmployeeID": "3"
                                },
                                {
                                    "2021": "17731.10",
                                    "2022": "45992.00",
                                    "2023": "14475.00",
                                    "EmployeeID": "6"
                                },
                                {
                                    "2021": "18104.80",
                                    "2022": "66689.14",
                                    "2023": "56502.05",
                                    "EmployeeID": "7"
                                },
                                {
                                    "2021": "38789.00",
                                    "2022": "97533.58",
                                    "2023": "65821.13",
                                    "EmployeeID": "1"
                                }
                            ]
                        },
                        "text/html": [
                            "<table>",
                            "<tr><th>EmployeeID</th><th>2021</th><th>2022</th><th>2023</th></tr>",
                            "<tr><td>9</td><td>11365.70</td><td>29577.55</td><td>42020.75</td></tr>",
                            "<tr><td>3</td><td>19231.80</td><td>111788.61</td><td>82030.89</td></tr>",
                            "<tr><td>6</td><td>17731.10</td><td>45992.00</td><td>14475.00</td></tr>",
                            "<tr><td>7</td><td>18104.80</td><td>66689.14</td><td>56502.05</td></tr>",
                            "<tr><td>1</td><td>38789.00</td><td>97533.58</td><td>65821.13</td></tr>",
                            "</table>"
                        ]
                    }
                }
            ],
            "execution_count": 7
        },
        {
            "cell_type": "markdown",
            "source": [
                "# 🚀**18\\. To identify products that are low in stock using DECLARE function to set the minimum stock level**🚀🚀\n",
                "\n",
                "<span style=\"color: #0000ff;\">DECLARE</span> @MinStock <span style=\"color: #0000ff;\">INT</span> <span style=\"color: #000000;\">=</span> <span style=\"color: #09885a;\">10</span>;\n",
                "\n",
                "<span style=\"color: #0000ff;\">SELECT</span> ProductID,\n",
                "\n",
                "    ProductName\n",
                "\n",
                "<span style=\"color: #0000ff;\">FROM</span>\n",
                "\n",
                "    Products\n",
                "\n",
                "<span style=\"color: #0000ff;\">WHERE</span>\n",
                "\n",
                "    UnitsInStock <span style=\"color: #000000;\">&lt;</span> @MinStock;"
            ],
            "metadata": {
                "azdata_cell_guid": "009e5f01-5090-49e2-a763-c4d44aae99e3"
            },
            "attachments": {}
        },
        {
            "cell_type": "code",
            "source": [
                "DECLARE @MinStock INT = 10;\r\n",
                "\r\n",
                "SELECT TOP 5\r\n",
                "    ProductID, \r\n",
                "    ProductName\r\n",
                "FROM \r\n",
                "    Products\r\n",
                "WHERE \r\n",
                "    UnitsInStock < @MinStock;"
            ],
            "metadata": {
                "azdata_cell_guid": "88a518c6-fe23-48ab-8f2e-991c15bafbd7",
                "language": "sql"
            },
            "outputs": [
                {
                    "output_type": "display_data",
                    "data": {
                        "text/html": "(5 rows affected)"
                    },
                    "metadata": {}
                },
                {
                    "output_type": "display_data",
                    "data": {
                        "text/html": "Total execution time: 00:00:00.031"
                    },
                    "metadata": {}
                },
                {
                    "output_type": "execute_result",
                    "metadata": {},
                    "execution_count": 6,
                    "data": {
                        "application/vnd.dataresource+json": {
                            "schema": {
                                "fields": [
                                    {
                                        "name": "ProductID"
                                    },
                                    {
                                        "name": "ProductName"
                                    }
                                ]
                            },
                            "data": [
                                {
                                    "ProductID": "5",
                                    "ProductName": "Chef Anton's Gumbo Mix"
                                },
                                {
                                    "ProductID": "8",
                                    "ProductName": "Northwoods Cranberry Sauce"
                                },
                                {
                                    "ProductID": "17",
                                    "ProductName": "Alice Mutton"
                                },
                                {
                                    "ProductID": "21",
                                    "ProductName": "Sir Rodney's Scones"
                                },
                                {
                                    "ProductID": "29",
                                    "ProductName": "Thüringer Rostbratwurst"
                                }
                            ]
                        },
                        "text/html": [
                            "<table>",
                            "<tr><th>ProductID</th><th>ProductName</th></tr>",
                            "<tr><td>5</td><td>Chef Anton&#39;s Gumbo Mix</td></tr>",
                            "<tr><td>8</td><td>Northwoods Cranberry Sauce</td></tr>",
                            "<tr><td>17</td><td>Alice Mutton</td></tr>",
                            "<tr><td>21</td><td>Sir Rodney&#39;s Scones</td></tr>",
                            "<tr><td>29</td><td>Thüringer Rostbratwurst</td></tr>",
                            "</table>"
                        ]
                    }
                }
            ],
            "execution_count": 6
        },
        {
            "cell_type": "markdown",
            "source": [
                "# 🚀**19\\. Combining customer information from two countries where the country is either 'USA' or 'UK' using UNION function**🚀\n",
                "\n",
                "<span style=\"color: #0000ff;\">SELECT</span>\n",
                "\n",
                "    CustomerID,\n",
                "\n",
                "    CompanyName,\n",
                "\n",
                "    <span style=\"color: #a31515;\">'US'</span> <span style=\"color: #0000ff;\">AS</span> Country\n",
                "\n",
                "<span style=\"color: #0000ff;\">FROM</span>\n",
                "\n",
                "    Customers\n",
                "\n",
                "<span style=\"color: #0000ff;\">WHERE</span>\n",
                "\n",
                "    Country <span style=\"color: #000000;\">=</span> <span style=\"color: #a31515;\">'USA'</span>\n",
                "\n",
                "<span style=\"color: #0000ff;\">UNION</span>\n",
                "\n",
                "<span style=\"color: #0000ff;\">SELECT</span>\n",
                "\n",
                "    CustomerID,\n",
                "\n",
                "    CompanyName,\n",
                "\n",
                "    <span style=\"color: #a31515;\">'UK'</span> <span style=\"color: #0000ff;\">AS</span> Country\n",
                "\n",
                "<span style=\"color: #0000ff;\">FROM</span>\n",
                "\n",
                "    Customers\n",
                "\n",
                "<span style=\"color: #0000ff;\">WHERE</span>\n",
                "\n",
                "    Country <span style=\"color: #000000;\">=</span> <span style=\"color: #a31515;\">'UK'</span>;"
            ],
            "metadata": {
                "azdata_cell_guid": "14475ad5-b4b2-4f41-90b6-7f796cd1cea8"
            },
            "attachments": {}
        },
        {
            "cell_type": "code",
            "source": [
                "SELECT\r\n",
                "    CustomerID, \r\n",
                "    CompanyName, \r\n",
                "    'US' AS Country\r\n",
                "FROM \r\n",
                "    Customers\r\n",
                "WHERE \r\n",
                "    Country = 'USA'\r\n",
                "UNION\r\n",
                "SELECT \r\n",
                "    CustomerID, \r\n",
                "    CompanyName, \r\n",
                "    'UK' AS Country\r\n",
                "FROM \r\n",
                "    Customers\r\n",
                "WHERE \r\n",
                "    Country = 'UK';\r\n",
                ""
            ],
            "metadata": {
                "azdata_cell_guid": "596ccb5d-8c06-48de-9155-3755f7d10285",
                "language": "sql"
            },
            "outputs": [
                {
                    "output_type": "display_data",
                    "data": {
                        "text/html": "(20 rows affected)"
                    },
                    "metadata": {}
                },
                {
                    "output_type": "display_data",
                    "data": {
                        "text/html": "Total execution time: 00:00:00.051"
                    },
                    "metadata": {}
                },
                {
                    "output_type": "execute_result",
                    "metadata": {},
                    "execution_count": 8,
                    "data": {
                        "application/vnd.dataresource+json": {
                            "schema": {
                                "fields": [
                                    {
                                        "name": "CustomerID"
                                    },
                                    {
                                        "name": "CompanyName"
                                    },
                                    {
                                        "name": "Country"
                                    }
                                ]
                            },
                            "data": [
                                {
                                    "CustomerID": "GREAL",
                                    "CompanyName": "Great Lakes Food Market",
                                    "Country": "US"
                                },
                                {
                                    "CustomerID": "HUNGC",
                                    "CompanyName": "Hungry Coyote Import Store",
                                    "Country": "US"
                                },
                                {
                                    "CustomerID": "LAZYK",
                                    "CompanyName": "Lazy K Kountry Store",
                                    "Country": "US"
                                },
                                {
                                    "CustomerID": "LETSS",
                                    "CompanyName": "Let's Stop N Shop",
                                    "Country": "US"
                                },
                                {
                                    "CustomerID": "LONEP",
                                    "CompanyName": "Lonesome Pine Restaurant",
                                    "Country": "US"
                                },
                                {
                                    "CustomerID": "OLDWO",
                                    "CompanyName": "Old World Delicatessen",
                                    "Country": "US"
                                },
                                {
                                    "CustomerID": "RATTC",
                                    "CompanyName": "Rattlesnake Canyon Grocery",
                                    "Country": "US"
                                },
                                {
                                    "CustomerID": "SAVEA",
                                    "CompanyName": "Save-a-lot Markets",
                                    "Country": "US"
                                },
                                {
                                    "CustomerID": "SPLIR",
                                    "CompanyName": "Split Rail Beer & Ale",
                                    "Country": "US"
                                },
                                {
                                    "CustomerID": "THEBI",
                                    "CompanyName": "The Big Cheese",
                                    "Country": "US"
                                },
                                {
                                    "CustomerID": "THECR",
                                    "CompanyName": "The Cracker Box",
                                    "Country": "US"
                                },
                                {
                                    "CustomerID": "TRAIH",
                                    "CompanyName": "Trail's Head Gourmet Provisioners",
                                    "Country": "US"
                                },
                                {
                                    "CustomerID": "WHITC",
                                    "CompanyName": "White Clover Markets",
                                    "Country": "US"
                                },
                                {
                                    "CustomerID": "AROUT",
                                    "CompanyName": "Around the Horn",
                                    "Country": "UK"
                                },
                                {
                                    "CustomerID": "BSBEV",
                                    "CompanyName": "B's Beverages",
                                    "Country": "UK"
                                },
                                {
                                    "CustomerID": "CONSH",
                                    "CompanyName": "Consolidated Holdings",
                                    "Country": "UK"
                                },
                                {
                                    "CustomerID": "EASTC",
                                    "CompanyName": "Eastern Connection",
                                    "Country": "UK"
                                },
                                {
                                    "CustomerID": "ISLAT",
                                    "CompanyName": "Island Trading",
                                    "Country": "UK"
                                },
                                {
                                    "CustomerID": "NORTS",
                                    "CompanyName": "North/South",
                                    "Country": "UK"
                                },
                                {
                                    "CustomerID": "SEVES",
                                    "CompanyName": "Seven Seas Imports",
                                    "Country": "UK"
                                }
                            ]
                        },
                        "text/html": [
                            "<table>",
                            "<tr><th>CustomerID</th><th>CompanyName</th><th>Country</th></tr>",
                            "<tr><td>GREAL</td><td>Great Lakes Food Market</td><td>US</td></tr>",
                            "<tr><td>HUNGC</td><td>Hungry Coyote Import Store</td><td>US</td></tr>",
                            "<tr><td>LAZYK</td><td>Lazy K Kountry Store</td><td>US</td></tr>",
                            "<tr><td>LETSS</td><td>Let&#39;s Stop N Shop</td><td>US</td></tr>",
                            "<tr><td>LONEP</td><td>Lonesome Pine Restaurant</td><td>US</td></tr>",
                            "<tr><td>OLDWO</td><td>Old World Delicatessen</td><td>US</td></tr>",
                            "<tr><td>RATTC</td><td>Rattlesnake Canyon Grocery</td><td>US</td></tr>",
                            "<tr><td>SAVEA</td><td>Save-a-lot Markets</td><td>US</td></tr>",
                            "<tr><td>SPLIR</td><td>Split Rail Beer &amp; Ale</td><td>US</td></tr>",
                            "<tr><td>THEBI</td><td>The Big Cheese</td><td>US</td></tr>",
                            "<tr><td>THECR</td><td>The Cracker Box</td><td>US</td></tr>",
                            "<tr><td>TRAIH</td><td>Trail&#39;s Head Gourmet Provisioners</td><td>US</td></tr>",
                            "<tr><td>WHITC</td><td>White Clover Markets</td><td>US</td></tr>",
                            "<tr><td>AROUT</td><td>Around the Horn</td><td>UK</td></tr>",
                            "<tr><td>BSBEV</td><td>B&#39;s Beverages</td><td>UK</td></tr>",
                            "<tr><td>CONSH</td><td>Consolidated Holdings</td><td>UK</td></tr>",
                            "<tr><td>EASTC</td><td>Eastern Connection</td><td>UK</td></tr>",
                            "<tr><td>ISLAT</td><td>Island Trading</td><td>UK</td></tr>",
                            "<tr><td>NORTS</td><td>North/South</td><td>UK</td></tr>",
                            "<tr><td>SEVES</td><td>Seven Seas Imports</td><td>UK</td></tr>",
                            "</table>"
                        ]
                    }
                }
            ],
            "execution_count": 8
        },
        {
            "cell_type": "markdown",
            "source": [
                "# 🚀**20\\. Creating a comprehensive list of customers and employees using UNION ALL                 function**🚀🚀\n",
                "\n",
                "<span style=\"color: #0000ff;\">SELECT</span> <span style=\"color: rgb(121, 94, 38);\">CAST</span>(CustomerID <span style=\"color: rgb(0, 0, 255);\">AS</span> <span style=\"color: rgb(0, 0, 255);\">NVARCHAR</span>) <span style=\"color: rgb(0, 0, 255);\">AS</span> ID,\n",
                "\n",
                "    CompanyName <span style=\"color: #0000ff;\">AS</span> <span style=\"color: #0000ff;\">Name</span>\n",
                "\n",
                "   <span style=\"color: #0000ff;\">FROM</span>\n",
                "\n",
                "    Customers\n",
                "\n",
                "<span style=\"color: #0000ff;\">UNION ALL</span>\n",
                "\n",
                "<span style=\"color: #0000ff;\">SELECT</span>\n",
                "\n",
                "    <span style=\"color: #795e26;\">CAST</span>(EmployeeID <span style=\"color: #0000ff;\">AS</span> <span style=\"color: #0000ff;\">NVARCHAR</span>) <span style=\"color: #0000ff;\">AS</span> ID,\n",
                "\n",
                "    FirstName <span style=\"color: #000000;\">+</span> <span style=\"color: #a31515;\">' '</span> <span style=\"color: #000000;\">+</span> LastName <span style=\"color: #0000ff;\">AS</span> <span style=\"color: #0000ff;\">Name</span>\n",
                "\n",
                "<span style=\"color: #0000ff;\">FROM</span>\n",
                "\n",
                "    Employees;"
            ],
            "metadata": {
                "azdata_cell_guid": "671c23f2-5f95-44e4-b039-f5e138378439"
            },
            "attachments": {}
        },
        {
            "cell_type": "code",
            "source": [
                "SELECT TOP 2\r\n",
                "    CAST(CustomerID AS NVARCHAR) AS ID, \r\n",
                "    CompanyName AS Name\r\n",
                "   FROM \r\n",
                "    Customers\r\n",
                "UNION ALL\r\n",
                "SELECT \r\n",
                "    CAST(EmployeeID AS NVARCHAR) AS ID, \r\n",
                "    FirstName + ' ' + LastName AS Name\r\n",
                "FROM \r\n",
                "    Employees;\r\n",
                ""
            ],
            "metadata": {
                "azdata_cell_guid": "c2da60a3-b147-4725-9c1f-6bbd933a38e4",
                "language": "sql"
            },
            "outputs": [
                {
                    "output_type": "display_data",
                    "data": {
                        "text/html": "(11 rows affected)"
                    },
                    "metadata": {}
                },
                {
                    "output_type": "display_data",
                    "data": {
                        "text/html": "Total execution time: 00:00:00.023"
                    },
                    "metadata": {}
                },
                {
                    "output_type": "execute_result",
                    "metadata": {},
                    "execution_count": 17,
                    "data": {
                        "application/vnd.dataresource+json": {
                            "schema": {
                                "fields": [
                                    {
                                        "name": "ID"
                                    },
                                    {
                                        "name": "Name"
                                    }
                                ]
                            },
                            "data": [
                                {
                                    "ID": "ALFKI",
                                    "Name": "Alfreds Futterkiste"
                                },
                                {
                                    "ID": "ANATR",
                                    "Name": "Ana Trujillo Emparedados y helados"
                                },
                                {
                                    "ID": "1",
                                    "Name": "Nancy Davolio"
                                },
                                {
                                    "ID": "2",
                                    "Name": "Andrew Fuller"
                                },
                                {
                                    "ID": "3",
                                    "Name": "Janet Leverling"
                                },
                                {
                                    "ID": "4",
                                    "Name": "Margaret Peacock"
                                },
                                {
                                    "ID": "5",
                                    "Name": "Steven Buchanan"
                                },
                                {
                                    "ID": "6",
                                    "Name": "Michael Suyama"
                                },
                                {
                                    "ID": "7",
                                    "Name": "Robert King"
                                },
                                {
                                    "ID": "8",
                                    "Name": "Laura Callahan"
                                },
                                {
                                    "ID": "9",
                                    "Name": "Anne Dodsworth"
                                }
                            ]
                        },
                        "text/html": [
                            "<table>",
                            "<tr><th>ID</th><th>Name</th></tr>",
                            "<tr><td>ALFKI</td><td>Alfreds Futterkiste</td></tr>",
                            "<tr><td>ANATR</td><td>Ana Trujillo Emparedados y helados</td></tr>",
                            "<tr><td>1</td><td>Nancy Davolio</td></tr>",
                            "<tr><td>2</td><td>Andrew Fuller</td></tr>",
                            "<tr><td>3</td><td>Janet Leverling</td></tr>",
                            "<tr><td>4</td><td>Margaret Peacock</td></tr>",
                            "<tr><td>5</td><td>Steven Buchanan</td></tr>",
                            "<tr><td>6</td><td>Michael Suyama</td></tr>",
                            "<tr><td>7</td><td>Robert King</td></tr>",
                            "<tr><td>8</td><td>Laura Callahan</td></tr>",
                            "<tr><td>9</td><td>Anne Dodsworth</td></tr>",
                            "</table>"
                        ]
                    }
                }
            ],
            "execution_count": 17
        },
        {
            "cell_type": "markdown",
            "source": [
                "21. To find customers from Germany who ordered products over $100 within the last two years using WHERE clause with multiple conditions."
            ],
            "metadata": {
                "azdata_cell_guid": "939448dd-63a2-4b25-b381-a79d50efea46"
            },
            "attachments": {}
        },
        {
            "cell_type": "markdown",
            "source": [
                "# 🚀**21\\. To find customers from Germany who ordered products over $100 within the last                two years using WHERE clause with multiple conditions**🚀\n",
                "\n",
                "<span style=\"color: #0000ff;\">SELECT</span>\n",
                "\n",
                "    CustomerID,\n",
                "\n",
                "    CompanyName\n",
                "\n",
                "<span style=\"color: #0000ff;\">FROM</span>\n",
                "\n",
                "    Customers\n",
                "\n",
                "<span style=\"color: #0000ff;\">WHERE</span>\n",
                "\n",
                "    Country <span style=\"color: #000000;\">=</span> <span style=\"color: #a31515;\">'Germany'</span>  \n",
                "\n",
                "    <span style=\"color: #0000ff;\">AND</span> CustomerID <span style=\"color: #0000ff;\">IN</span> (\n",
                "\n",
                "        <span style=\"color: #0000ff;\">SELECT</span> CustomerID\n",
                "\n",
                "        <span style=\"color: #0000ff;\">FROM</span> Orders\n",
                "\n",
                "        <span style=\"color: #0000ff;\">WHERE</span> OrderDate <span style=\"color: #000000;\">&gt;=</span> <span style=\"color: #795e26;\">DATEADD</span>(<span style=\"color: #0000ff;\">year</span>, <span style=\"color: #000000;\">-</span><span style=\"color: #09885a;\">2</span>, <span style=\"color: #795e26;\">GETDATE</span>())\n",
                "\n",
                "        <span style=\"color: #0000ff;\">AND</span> <span style=\"color: #0000ff;\">EXISTS</span> (\n",
                "\n",
                "            <span style=\"color: #0000ff;\">SELECT</span> <span style=\"color: #09885a;\">1</span>\n",
                "\n",
                "            <span style=\"color: #0000ff;\">FROM</span> OrderDetails\n",
                "\n",
                "            <span style=\"color: #0000ff;\">WHERE</span> OrderDetails.OrderID <span style=\"color: #000000;\">=</span> Orders.OrderID\n",
                "\n",
                "            <span style=\"color: #0000ff;\">AND</span> UnitPrice <span style=\"color: #000000;\">*</span> Quantity <span style=\"color: #000000;\">&gt;</span> <span style=\"color: #09885a;\">100</span>\n",
                "\n",
                "        )\n",
                "\n",
                "    );"
            ],
            "metadata": {
                "azdata_cell_guid": "d205253f-635a-48ae-be1b-412b2d022ab0"
            },
            "attachments": {}
        },
        {
            "cell_type": "code",
            "source": [
                "SELECT \r\n",
                "    CustomerID, \r\n",
                "    CompanyName\r\n",
                "FROM \r\n",
                "    Customers\r\n",
                "WHERE \r\n",
                "    Country = 'Germany'  \r\n",
                "    AND CustomerID IN (\r\n",
                "        SELECT CustomerID\r\n",
                "        FROM Orders\r\n",
                "        WHERE OrderDate >= DATEADD(year, -2, GETDATE())\r\n",
                "        AND EXISTS (\r\n",
                "            SELECT 1 \r\n",
                "            FROM OrderDetails \r\n",
                "            WHERE OrderDetails.OrderID = Orders.OrderID\r\n",
                "            AND UnitPrice * Quantity > 100\r\n",
                "        )\r\n",
                "    );\r\n",
                ""
            ],
            "metadata": {
                "azdata_cell_guid": "48f2e261-3c4f-4ed7-b916-ea62138e556a",
                "language": "sql"
            },
            "outputs": [
                {
                    "output_type": "display_data",
                    "data": {
                        "text/html": "(11 rows affected)"
                    },
                    "metadata": {}
                },
                {
                    "output_type": "display_data",
                    "data": {
                        "text/html": "Total execution time: 00:00:00.090"
                    },
                    "metadata": {}
                },
                {
                    "output_type": "execute_result",
                    "metadata": {},
                    "execution_count": 25,
                    "data": {
                        "application/vnd.dataresource+json": {
                            "schema": {
                                "fields": [
                                    {
                                        "name": "CustomerID"
                                    },
                                    {
                                        "name": "CompanyName"
                                    }
                                ]
                            },
                            "data": [
                                {
                                    "CustomerID": "ALFKI",
                                    "CompanyName": "Alfreds Futterkiste"
                                },
                                {
                                    "CustomerID": "FRANK",
                                    "CompanyName": "Frankenversand"
                                },
                                {
                                    "CustomerID": "DRACD",
                                    "CompanyName": "Drachenblut Delikatessen"
                                },
                                {
                                    "CustomerID": "LEHMS",
                                    "CompanyName": "Lehmanns Marktstand"
                                },
                                {
                                    "CustomerID": "TOMSP",
                                    "CompanyName": "Toms Spezialitäten"
                                },
                                {
                                    "CustomerID": "WANDK",
                                    "CompanyName": "Die Wandernde Kuh"
                                },
                                {
                                    "CustomerID": "QUICK",
                                    "CompanyName": "QUICK-Stop"
                                },
                                {
                                    "CustomerID": "OTTIK",
                                    "CompanyName": "Ottilies Käseladen"
                                },
                                {
                                    "CustomerID": "KOENE",
                                    "CompanyName": "Königlich Essen"
                                },
                                {
                                    "CustomerID": "MORGK",
                                    "CompanyName": "Morgenstern Gesundkost"
                                },
                                {
                                    "CustomerID": "BLAUS",
                                    "CompanyName": "Blauer See Delikatessen"
                                }
                            ]
                        },
                        "text/html": [
                            "<table>",
                            "<tr><th>CustomerID</th><th>CompanyName</th></tr>",
                            "<tr><td>ALFKI</td><td>Alfreds Futterkiste</td></tr>",
                            "<tr><td>FRANK</td><td>Frankenversand</td></tr>",
                            "<tr><td>DRACD</td><td>Drachenblut Delikatessen</td></tr>",
                            "<tr><td>LEHMS</td><td>Lehmanns Marktstand</td></tr>",
                            "<tr><td>TOMSP</td><td>Toms Spezialitäten</td></tr>",
                            "<tr><td>WANDK</td><td>Die Wandernde Kuh</td></tr>",
                            "<tr><td>QUICK</td><td>QUICK-Stop</td></tr>",
                            "<tr><td>OTTIK</td><td>Ottilies Käseladen</td></tr>",
                            "<tr><td>KOENE</td><td>Königlich Essen</td></tr>",
                            "<tr><td>MORGK</td><td>Morgenstern Gesundkost</td></tr>",
                            "<tr><td>BLAUS</td><td>Blauer See Delikatessen</td></tr>",
                            "</table>"
                        ]
                    }
                }
            ],
            "execution_count": 25
        },
        {
            "cell_type": "markdown",
            "source": [
                "# 🚀**22\\. Using conditional aggregate in select clause to determine total orders and high value orders**🚀\n",
                "\n",
                "<span style=\"color: #0000ff;\">SELECT</span>  OrderID,\n",
                "\n",
                "    <span style=\"color: #795e26;\">COUNT</span>(OrderID) <span style=\"color: #0000ff;\">AS</span> TotalOrders,\n",
                "\n",
                "    <span style=\"color: #795e26;\">SUM</span>(<span style=\"color: #0000ff;\">CASE</span> <span style=\"color: #0000ff;\">WHEN</span> UnitPrice <span style=\"color: #000000;\">*</span> Quantity <span style=\"color: #000000;\">&gt;</span> <span style=\"color: #09885a;\">500</span> <span style=\"color: #0000ff;\">THEN</span> <span style=\"color: #09885a;\">1</span> <span style=\"color: #0000ff;\">ELSE</span> <span style=\"color: #09885a;\">0</span> <span style=\"color: #0000ff;\">END</span>) <span style=\"color: #0000ff;\">AS</span> HighValueOrders\n",
                "\n",
                "<span style=\"color: #0000ff;\">FROM</span>\n",
                "\n",
                "    OrderDetails\n",
                "\n",
                "<span style=\"color: #0000ff;\">GROUP BY</span>\n",
                "\n",
                "    OrderID;"
            ],
            "metadata": {
                "azdata_cell_guid": "ee7a2034-3a71-426e-9b81-4dae738f73b6"
            },
            "attachments": {}
        },
        {
            "cell_type": "code",
            "source": [
                "SELECT TOP 5 \r\n",
                "    OrderID, \r\n",
                "    COUNT(OrderID) AS TotalOrders, \r\n",
                "    SUM(CASE WHEN UnitPrice * Quantity > 500 THEN 1 ELSE 0 END) AS HighValueOrders\r\n",
                "FROM \r\n",
                "    OrderDetails\r\n",
                "GROUP BY \r\n",
                "    OrderID;\r\n",
                ""
            ],
            "metadata": {
                "azdata_cell_guid": "c1c8ddf3-3044-4c6f-81d2-6e5fcfa01f5e",
                "language": "sql"
            },
            "outputs": [
                {
                    "output_type": "display_data",
                    "data": {
                        "text/html": "(5 rows affected)"
                    },
                    "metadata": {}
                },
                {
                    "output_type": "display_data",
                    "data": {
                        "text/html": "Total execution time: 00:00:00.033"
                    },
                    "metadata": {}
                },
                {
                    "output_type": "execute_result",
                    "metadata": {},
                    "execution_count": 27,
                    "data": {
                        "application/vnd.dataresource+json": {
                            "schema": {
                                "fields": [
                                    {
                                        "name": "OrderID"
                                    },
                                    {
                                        "name": "TotalOrders"
                                    },
                                    {
                                        "name": "HighValueOrders"
                                    }
                                ]
                            },
                            "data": [
                                {
                                    "OrderID": "10248",
                                    "TotalOrders": "3",
                                    "HighValueOrders": "0"
                                },
                                {
                                    "OrderID": "10249",
                                    "TotalOrders": "2",
                                    "HighValueOrders": "1"
                                },
                                {
                                    "OrderID": "10250",
                                    "TotalOrders": "3",
                                    "HighValueOrders": "1"
                                },
                                {
                                    "OrderID": "10251",
                                    "TotalOrders": "3",
                                    "HighValueOrders": "0"
                                },
                                {
                                    "OrderID": "10252",
                                    "TotalOrders": "3",
                                    "HighValueOrders": "2"
                                }
                            ]
                        },
                        "text/html": [
                            "<table>",
                            "<tr><th>OrderID</th><th>TotalOrders</th><th>HighValueOrders</th></tr>",
                            "<tr><td>10248</td><td>3</td><td>0</td></tr>",
                            "<tr><td>10249</td><td>2</td><td>1</td></tr>",
                            "<tr><td>10250</td><td>3</td><td>1</td></tr>",
                            "<tr><td>10251</td><td>3</td><td>0</td></tr>",
                            "<tr><td>10252</td><td>3</td><td>2</td></tr>",
                            "</table>"
                        ]
                    }
                }
            ],
            "execution_count": 27
        },
        {
            "cell_type": "markdown",
            "source": [
                "# 🚀**23\\. Using subquery with EXISTS to determine customers who have placed an order             over $500**🚀\n",
                "\n",
                "<span style=\"color: #0000ff;\">SELECT </span> CustomerID,\n",
                "\n",
                "    CompanyName\n",
                "\n",
                "<span style=\"color: #0000ff;\">FROM</span>\n",
                "\n",
                "    Customers\n",
                "\n",
                "<span style=\"color: #0000ff;\">WHERE</span>\n",
                "\n",
                "    <span style=\"color: #0000ff;\">EXISTS</span> (\n",
                "\n",
                "        <span style=\"color: #0000ff;\">SELECT</span> <span style=\"color: #09885a;\">1</span>\n",
                "\n",
                "        <span style=\"color: #0000ff;\">FROM</span> Orders o\n",
                "\n",
                "        <span style=\"color: #0000ff;\">JOIN</span> OrderDetails d <span style=\"color: #0000ff;\">ON</span> o.OrderID <span style=\"color: #000000;\">=</span> d.OrderID\n",
                "\n",
                "        <span style=\"color: #0000ff;\">WHERE</span>\n",
                "\n",
                "            o.CustomerID <span style=\"color: #000000;\">=</span> Customers.CustomerID\n",
                "\n",
                "            <span style=\"color: #0000ff;\">AND</span> d.UnitPrice <span style=\"color: #000000;\">*</span> d.Quantity <span style=\"color: #000000;\">&gt;</span> <span style=\"color: #09885a;\">500</span>\n",
                "\n",
                "    );"
            ],
            "metadata": {
                "language": "sql",
                "azdata_cell_guid": "be4746c9-a439-46ca-96cd-29c9b6cc0eda"
            },
            "attachments": {}
        },
        {
            "cell_type": "code",
            "source": [
                "SELECT TOP 5 \r\n",
                "    CustomerID, \r\n",
                "    CompanyName\r\n",
                "FROM \r\n",
                "    Customers\r\n",
                "WHERE \r\n",
                "    EXISTS (\r\n",
                "        SELECT 1 \r\n",
                "        FROM Orders o\r\n",
                "        JOIN OrderDetails d ON o.OrderID = d.OrderID\r\n",
                "        WHERE \r\n",
                "            o.CustomerID = Customers.CustomerID\r\n",
                "            AND d.UnitPrice * d.Quantity > 500\r\n",
                "    );\r\n",
                "\r\n",
                ""
            ],
            "metadata": {
                "language": "sql",
                "azdata_cell_guid": "9f9e01e5-740d-466f-a140-44cf87a3d567"
            },
            "outputs": [
                {
                    "output_type": "display_data",
                    "data": {
                        "text/html": "(5 rows affected)"
                    },
                    "metadata": {}
                },
                {
                    "output_type": "display_data",
                    "data": {
                        "text/html": "Total execution time: 00:00:00.082"
                    },
                    "metadata": {}
                },
                {
                    "output_type": "execute_result",
                    "metadata": {},
                    "execution_count": 29,
                    "data": {
                        "application/vnd.dataresource+json": {
                            "schema": {
                                "fields": [
                                    {
                                        "name": "CustomerID"
                                    },
                                    {
                                        "name": "CompanyName"
                                    }
                                ]
                            },
                            "data": [
                                {
                                    "CustomerID": "BLONP",
                                    "CompanyName": "Blondesddsl père et fils"
                                },
                                {
                                    "CustomerID": "SEVES",
                                    "CompanyName": "Seven Seas Imports"
                                },
                                {
                                    "CustomerID": "OLDWO",
                                    "CompanyName": "Old World Delicatessen"
                                },
                                {
                                    "CustomerID": "THEBI",
                                    "CompanyName": "The Big Cheese"
                                },
                                {
                                    "CustomerID": "FRANS",
                                    "CompanyName": "Franchi S.p.A."
                                }
                            ]
                        },
                        "text/html": [
                            "<table>",
                            "<tr><th>CustomerID</th><th>CompanyName</th></tr>",
                            "<tr><td>BLONP</td><td>Blondesddsl père et fils</td></tr>",
                            "<tr><td>SEVES</td><td>Seven Seas Imports</td></tr>",
                            "<tr><td>OLDWO</td><td>Old World Delicatessen</td></tr>",
                            "<tr><td>THEBI</td><td>The Big Cheese</td></tr>",
                            "<tr><td>FRANS</td><td>Franchi S.p.A.</td></tr>",
                            "</table>"
                        ]
                    }
                }
            ],
            "execution_count": 29
        },
        {
            "cell_type": "markdown",
            "source": [
                "# 🚀**24\\. To create a view for the employees and their total orders using \"CREATE TABLE\"**🚀\n",
                "\n",
                "CREATE OR ALTER VIEW EmployeeOrderCount AS\n",
                "\n",
                "SELECT \n",
                "\n",
                "    e.EmployeeID,\n",
                "\n",
                "    e.FirstName,\n",
                "\n",
                "    e.LastName,\n",
                "\n",
                "    COUNT(o.OrderID) AS TotalOrders\n",
                "\n",
                "FROM \n",
                "\n",
                "    Employees e\n",
                "\n",
                "LEFT JOIN \n",
                "\n",
                "    Orders o ON e.EmployeeID = o.EmployeeID\n",
                "\n",
                "GROUP BY \n",
                "\n",
                "    e.EmployeeID, e.FirstName, e.LastName;"
            ],
            "metadata": {
                "azdata_cell_guid": "20c8f3e3-9e4e-4b88-a6ec-64283b80068c"
            },
            "attachments": {}
        },
        {
            "cell_type": "code",
            "source": [
                "CREATE OR ALTER VIEW EmployeeOrderCount AS\r\n",
                "SELECT \r\n",
                "    e.EmployeeID,\r\n",
                "    e.FirstName,\r\n",
                "    e.LastName,\r\n",
                "    COUNT(o.OrderID) AS TotalOrders\r\n",
                "FROM \r\n",
                "    Employees e\r\n",
                "LEFT JOIN \r\n",
                "    Orders o ON e.EmployeeID = o.EmployeeID\r\n",
                "GROUP BY \r\n",
                "    e.EmployeeID, e.FirstName, e.LastName;\r\n",
                ""
            ],
            "metadata": {
                "azdata_cell_guid": "b5861692-ed49-402a-b90c-146596d70bae",
                "language": "sql"
            },
            "outputs": [
                {
                    "output_type": "display_data",
                    "data": {
                        "text/html": "Commands completed successfully."
                    },
                    "metadata": {}
                },
                {
                    "output_type": "display_data",
                    "data": {
                        "text/html": "Total execution time: 00:00:00.037"
                    },
                    "metadata": {}
                }
            ],
            "execution_count": 40
        },
        {
            "cell_type": "markdown",
            "source": [
                "# 🚀**25\\. To determine the average order discount by product category**🚀\n",
                "\n",
                "<span style=\"color: #0000ff;\">SELECT</span>   c.CategoryName,\n",
                "\n",
                "    <span style=\"color: #795e26;\">AVG</span>(od.Discount) <span style=\"color: #0000ff;\">AS</span> AvgDiscount\n",
                "\n",
                "<span style=\"color: #0000ff;\">FROM</span>\n",
                "\n",
                "    \\[OrderDetails\\] od\n",
                "\n",
                "<span style=\"color: #0000ff;\">JOIN</span>\n",
                "\n",
                "    Products p <span style=\"color: #0000ff;\">ON</span> od.ProductID <span style=\"color: #000000;\">=</span> p.ProductID\n",
                "\n",
                "<span style=\"color: #0000ff;\">JOIN</span>\n",
                "\n",
                "    Categories c <span style=\"color: #0000ff;\">ON</span> p.CategoryID <span style=\"color: #000000;\">=</span> c.CategoryID\n",
                "\n",
                "<span style=\"color: #0000ff;\">GROUP BY</span>\n",
                "\n",
                "    c.CategoryName;"
            ],
            "metadata": {
                "azdata_cell_guid": "8213150f-2c83-444d-b8fd-ba1bdfd67b98"
            },
            "attachments": {}
        },
        {
            "cell_type": "code",
            "source": [
                "SELECT TOP 5 \r\n",
                "    c.CategoryName, \r\n",
                "    AVG(od.Discount) AS AvgDiscount\r\n",
                "FROM \r\n",
                "    [OrderDetails] od\r\n",
                "JOIN \r\n",
                "    Products p ON od.ProductID = p.ProductID\r\n",
                "JOIN \r\n",
                "    Categories c ON p.CategoryID = c.CategoryID\r\n",
                "GROUP BY \r\n",
                "    c.CategoryName;\r\n",
                ""
            ],
            "metadata": {
                "azdata_cell_guid": "a679addc-409b-407c-95f6-179ff3f92ed3",
                "language": "sql",
                "tags": []
            },
            "outputs": [
                {
                    "output_type": "display_data",
                    "data": {
                        "text/html": "(5 rows affected)"
                    },
                    "metadata": {}
                },
                {
                    "output_type": "display_data",
                    "data": {
                        "text/html": "Total execution time: 00:00:00.058"
                    },
                    "metadata": {}
                },
                {
                    "output_type": "execute_result",
                    "metadata": {},
                    "execution_count": 33,
                    "data": {
                        "application/vnd.dataresource+json": {
                            "schema": {
                                "fields": [
                                    {
                                        "name": "CategoryName"
                                    },
                                    {
                                        "name": "AvgDiscount"
                                    }
                                ]
                            },
                            "data": [
                                {
                                    "CategoryName": "Seafood",
                                    "AvgDiscount": "0.0602424250802759"
                                },
                                {
                                    "CategoryName": "Meat/Poultry",
                                    "AvgDiscount": "0.06445086779708119"
                                },
                                {
                                    "CategoryName": "Condiments",
                                    "AvgDiscount": "0.0526388897733004"
                                },
                                {
                                    "CategoryName": "Confections",
                                    "AvgDiscount": "0.0569461086474939"
                                },
                                {
                                    "CategoryName": "Produce",
                                    "AvgDiscount": "0.04544117719428066"
                                }
                            ]
                        },
                        "text/html": [
                            "<table>",
                            "<tr><th>CategoryName</th><th>AvgDiscount</th></tr>",
                            "<tr><td>Seafood</td><td>0.0602424250802759</td></tr>",
                            "<tr><td>Meat/Poultry</td><td>0.06445086779708119</td></tr>",
                            "<tr><td>Condiments</td><td>0.0526388897733004</td></tr>",
                            "<tr><td>Confections</td><td>0.0569461086474939</td></tr>",
                            "<tr><td>Produce</td><td>0.04544117719428066</td></tr>",
                            "</table>"
                        ]
                    }
                }
            ],
            "execution_count": 33
        }
    ]
}